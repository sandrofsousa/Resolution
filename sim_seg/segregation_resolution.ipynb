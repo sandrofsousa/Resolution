{
 "cells": [
  {
   "cell_type": "markdown",
   "metadata": {},
   "source": [
    "# Segregation calculation"
   ]
  },
  {
   "cell_type": "markdown",
   "metadata": {},
   "source": [
    "** Instructions**\n",
    "\n",
    "For fast processing, you just need to change the file name/path at **Input file** (the file you want to read)  \n",
    "and the file name/path at section **Save results to a local file** (the file you want to save results)\n",
    "\n",
    "*make sure you don't use a name already existent or the file will be replaced*\n",
    "\n",
    "With this in mind, just click on **Cell** menu and select **Run All**"
   ]
  },
  {
   "cell_type": "code",
   "execution_count": 1,
   "metadata": {
    "collapsed": true
   },
   "outputs": [],
   "source": [
    "import numpy as np\n",
    "import pandas as pd\n",
    "from decimal import Decimal\n",
    "import time"
   ]
  },
  {
   "cell_type": "code",
   "execution_count": 2,
   "metadata": {
    "collapsed": true
   },
   "outputs": [],
   "source": [
    "# Import python script with segreg functions\n",
    "from segregationMetrics import Metrics"
   ]
  },
  {
   "cell_type": "code",
   "execution_count": 3,
   "metadata": {
    "collapsed": true
   },
   "outputs": [],
   "source": [
    "cc = Metrics()"
   ]
  },
  {
   "cell_type": "markdown",
   "metadata": {},
   "source": [
    "**Input file**"
   ]
  },
  {
   "cell_type": "code",
   "execution_count": 4,
   "metadata": {
    "collapsed": false
   },
   "outputs": [
    {
     "data": {
      "text/plain": [
       "matrix([[  2.00000000e+00,   3.67940727e+05,   7.41220127e+06, ...,\n",
       "           7.21700000e+03,   3.22600000e+03,   3.57000000e+02],\n",
       "        [  1.00000000e+00,   3.65279005e+05,   7.41308577e+06, ...,\n",
       "           3.94100000e+03,   8.16000000e+02,   1.87000000e+02],\n",
       "        [  3.00000000e+00,   3.62939248e+05,   7.41398731e+06, ...,\n",
       "           6.76300000e+03,   1.40000000e+03,   3.12000000e+02],\n",
       "        ..., \n",
       "        [  6.09000000e+02,   3.25291157e+05,   7.36486407e+06, ...,\n",
       "           5.57900000e+03,   1.09400000e+03,   7.64000000e+02],\n",
       "        [  6.25000000e+02,   3.18200304e+05,   7.38684501e+06, ...,\n",
       "           6.72800000e+03,   2.58500000e+03,   8.80000000e+01],\n",
       "        [  6.29000000e+02,   3.16921299e+05,   7.38553520e+06, ...,\n",
       "           7.60000000e+03,   1.03900000e+03,   2.96000000e+02]])"
      ]
     },
     "execution_count": 4,
     "metadata": {},
     "output_type": "execute_result"
    }
   ],
   "source": [
    "'''\n",
    "Data prepared as id,  x, y , sum, attribute 1, attributes 2, attributes 3, Attribute n\n",
    "'''\n",
    "\n",
    "# cc.readAttributesFile('res/ks201_oa_ethnic.csv')\n",
    "cc.readAttributesFile('data/AP2010_CEM_RMSP_EDU.csv')"
   ]
  },
  {
   "cell_type": "markdown",
   "metadata": {},
   "source": [
    "**Compute population intensity**\n",
    "\n",
    "Distance matrix is calculated at this step"
   ]
  },
  {
   "cell_type": "code",
   "execution_count": 5,
   "metadata": {
    "collapsed": false
   },
   "outputs": [
    {
     "name": "stdout",
     "output_type": "stream",
     "text": [
      "--- 0.27097201347351074 seconds ---\n"
     ]
    }
   ],
   "source": [
    "'''\n",
    "Parameters:\n",
    "bandwidth - is set to be 5000m by default, you can change it here\n",
    "weightmethod - 1 for gaussian, 2 for bi-square and empty for moving window\n",
    "'''\n",
    "\n",
    "start_time = time.time()\n",
    "cc.locality = cc.cal_localityMatrix(bandwidth=3000, weightmethod=1)\n",
    "print(\"--- %s seconds ---\" % (time.time() - start_time))"
   ]
  },
  {
   "cell_type": "code",
   "execution_count": 6,
   "metadata": {
    "collapsed": false
   },
   "outputs": [
    {
     "data": {
      "text/plain": [
       "matrix([[  367940.72713,  7412201.27442],\n",
       "        [  365279.00478,  7413085.76939],\n",
       "        [  362939.24837,  7413987.31233],\n",
       "        ..., \n",
       "        [  325291.15667,  7364864.06947],\n",
       "        [  318200.30414,  7386845.00788],\n",
       "        [  316921.29889,  7385535.20008]])"
      ]
     },
     "execution_count": 6,
     "metadata": {},
     "output_type": "execute_result"
    }
   ],
   "source": [
    "# List of coordinates from file (x, y) for validation\n",
    "cc.location"
   ]
  },
  {
   "cell_type": "code",
   "execution_count": 7,
   "metadata": {
    "collapsed": false
   },
   "outputs": [
    {
     "data": {
      "text/plain": [
       "array([[  8279.8462652 ,   3600.89814857,   5388.00321297,   1689.44639886,\n",
       "           268.56572077],\n",
       "       [  8511.69276191,   3566.9300309 ,   5274.27540802,   1377.54685989,\n",
       "           262.73938253],\n",
       "       [  9577.65965392,   3886.71905402,   5551.25579861,   1203.69229422,\n",
       "           277.13216749],\n",
       "       ..., \n",
       "       [ 14997.89485778,   5860.56765295,   6171.27284685,   1068.69496683,\n",
       "           605.38805821],\n",
       "       [ 11150.70559268,   5233.81760202,   7196.39321957,   2867.14714079,\n",
       "           304.8247775 ],\n",
       "       [ 11290.66084299,   5200.98310512,   6712.36558737,   2011.08553609,\n",
       "           304.41121067]])"
      ]
     },
     "execution_count": 7,
     "metadata": {},
     "output_type": "execute_result"
    }
   ],
   "source": [
    "# Display local population intensity for groups\n",
    "cc.locality"
   ]
  },
  {
   "cell_type": "code",
   "execution_count": 8,
   "metadata": {
    "collapsed": false
   },
   "outputs": [
    {
     "data": {
      "text/plain": [
       "array([ 8523.5478202 ,  3116.99777089,  3780.57772084,  2042.23614182,\n",
       "          54.44648988])"
      ]
     },
     "execution_count": 8,
     "metadata": {},
     "output_type": "execute_result"
    }
   ],
   "source": [
    "# To select locality for a specific line (validation), use the index in[x,:]\n",
    "cc.locality[5,:]"
   ]
  },
  {
   "cell_type": "markdown",
   "metadata": {},
   "source": [
    "**Compute Local Dissimilarity**"
   ]
  },
  {
   "cell_type": "code",
   "execution_count": 14,
   "metadata": {
    "collapsed": false
   },
   "outputs": [
    {
     "data": {
      "text/plain": [
       "array([  9.55860422e-05,   6.61707339e-05,   1.59987254e-04,\n",
       "         1.26048662e-04,   2.87121813e-04,   1.41013920e-04,\n",
       "         1.40268287e-04,   1.57788605e-04,   4.80449181e-04])"
      ]
     },
     "execution_count": 14,
     "metadata": {},
     "output_type": "execute_result"
    }
   ],
   "source": [
    "# Function to compute local dissimilarity\n",
    "d_localsimilarity = cc.cal_localDissimilarity()\n",
    "# To select a specific element use the index [x] or a range [x:x]\n",
    "d_localsimilarity[0:9]"
   ]
  },
  {
   "cell_type": "markdown",
   "metadata": {},
   "source": [
    "**Compute Global Dissimilarity**"
   ]
  },
  {
   "cell_type": "code",
   "execution_count": 15,
   "metadata": {
    "collapsed": false
   },
   "outputs": [
    {
     "data": {
      "text/plain": [
       "0.12053398250135673"
      ]
     },
     "execution_count": 15,
     "metadata": {},
     "output_type": "execute_result"
    }
   ],
   "source": [
    "# Fution to compute global dissimilarity\n",
    "d_globaldis = cc.cal_globalDissimilarity()\n",
    "# Display gloabl value\n",
    "d_globaldis"
   ]
  },
  {
   "cell_type": "markdown",
   "metadata": {},
   "source": [
    "** Compute Local Exposure/Isolation**"
   ]
  },
  {
   "cell_type": "code",
   "execution_count": 21,
   "metadata": {
    "collapsed": true
   },
   "outputs": [],
   "source": [
    "''''\n",
    "expo is a matrix of n_group * n_group therefore, exposure (m,n) = rs[m,n]\n",
    "the columns are exporsure m1 to n1, to n2... n5, m2 to n1....n5\n",
    "- m,m = isolation index of group m\n",
    "- m,n = expouse index of group m to n\n",
    "'''\n",
    "expo_local = cc.cal_localExposure()"
   ]
  },
  {
   "cell_type": "code",
   "execution_count": 23,
   "metadata": {
    "collapsed": false
   },
   "outputs": [
    {
     "data": {
      "text/plain": [
       "(633, 25)"
      ]
     },
     "execution_count": 23,
     "metadata": {},
     "output_type": "execute_result"
    }
   ],
   "source": [
    "# For validation, shape must be total lines of file by groups squared\n",
    "expo_local.shape"
   ]
  },
  {
   "cell_type": "code",
   "execution_count": 24,
   "metadata": {
    "collapsed": false
   },
   "outputs": [
    {
     "data": {
      "text/plain": [
       "array([[  6.27602205e-04,   2.72943669e-04,   4.08404044e-04, ...,\n",
       "          5.13685003e-04,   1.61069555e-04,   2.56046958e-05],\n",
       "       [  3.82603561e-04,   1.60334750e-04,   2.37080521e-04, ...,\n",
       "          2.66632785e-04,   6.96397376e-05,   1.32823806e-05],\n",
       "       [  8.49138490e-04,   3.44589688e-04,   4.92164593e-04, ...,\n",
       "          4.33884285e-04,   9.40801846e-05,   2.16605569e-05],\n",
       "       ..., \n",
       "       [  1.10525065e-03,   4.31887028e-04,   4.54784049e-04, ...,\n",
       "          8.43403419e-04,   1.46054309e-04,   8.27359883e-05],\n",
       "       [  3.86281001e-04,   1.81309092e-04,   2.49296330e-04, ...,\n",
       "          1.21544078e-04,   4.84249187e-05,   5.14836329e-06],\n",
       "       [  1.16228292e-03,   5.35399468e-04,   6.90984164e-04, ...,\n",
       "          3.99762423e-04,   1.19772443e-04,   1.81295494e-05]])"
      ]
     },
     "execution_count": 24,
     "metadata": {},
     "output_type": "execute_result"
    }
   ],
   "source": [
    "# Result of all combinations of local groups expousure/isolation\n",
    "expo_local"
   ]
  },
  {
   "cell_type": "code",
   "execution_count": 79,
   "metadata": {
    "collapsed": false
   },
   "outputs": [
    {
     "data": {
      "text/plain": [
       "array([  6.27602205e-04,   2.72943669e-04,   4.08404044e-04,\n",
       "         1.28057968e-04,   2.03569527e-05,   6.26438201e-04,\n",
       "         2.72437445e-04,   4.07646583e-04,   1.27820461e-04,\n",
       "         2.03191970e-05,   6.71914198e-04,   2.92214917e-04,\n",
       "         4.37239502e-04,   1.37099529e-04,   2.17942598e-05,\n",
       "         6.22340933e-04,   2.70655546e-04,   4.04980339e-04,\n",
       "         1.26984441e-04,   2.01862977e-05,   7.89389442e-04,\n",
       "         3.43304802e-04,   5.13685003e-04,   1.61069555e-04,\n",
       "         2.56046958e-05])"
      ]
     },
     "execution_count": 79,
     "metadata": {},
     "output_type": "execute_result"
    }
   ],
   "source": [
    "# To select a specific line of m to n, use the index [x]\n",
    "# Each value is a result of the combinations m,n\n",
    "expo_local[0]"
   ]
  },
  {
   "cell_type": "markdown",
   "metadata": {},
   "source": [
    "** Compute Global Exposure/Isolation**"
   ]
  },
  {
   "cell_type": "code",
   "execution_count": 26,
   "metadata": {
    "collapsed": false
   },
   "outputs": [],
   "source": [
    "# calculate the global exposure ,the results is a m*m matrix\n",
    "expo_global = cc.cal_globalExposure()"
   ]
  },
  {
   "cell_type": "code",
   "execution_count": 73,
   "metadata": {
    "collapsed": false
   },
   "outputs": [
    {
     "data": {
      "text/plain": [
       "array([ 0.41024676,  0.1941277 ,  0.27317189,  0.11046947,  0.01198418,\n",
       "        0.40289845,  0.19287   ,  0.27481578,  0.11760663,  0.01180913,\n",
       "        0.38953139,  0.18881944,  0.27740802,  0.13282396,  0.0114172 ,\n",
       "        0.32715575,  0.16767302,  0.27551352,  0.21947063,  0.01018708,\n",
       "        0.40602988,  0.19276895,  0.27157291,  0.11685554,  0.01277272])"
      ]
     },
     "execution_count": 73,
     "metadata": {},
     "output_type": "execute_result"
    }
   ],
   "source": [
    "expo_global"
   ]
  },
  {
   "cell_type": "markdown",
   "metadata": {},
   "source": [
    "**Prepare data for saving on a local file**"
   ]
  },
  {
   "cell_type": "code",
   "execution_count": 37,
   "metadata": {
    "collapsed": true
   },
   "outputs": [],
   "source": [
    "d_localsimilarity = np.asmatrix(d_localsimilarity).transpose()"
   ]
  },
  {
   "cell_type": "code",
   "execution_count": 38,
   "metadata": {
    "collapsed": false
   },
   "outputs": [
    {
     "data": {
      "text/plain": [
       "(633, 1)"
      ]
     },
     "execution_count": 38,
     "metadata": {},
     "output_type": "execute_result"
    }
   ],
   "source": [
    "d_localsimilarity.shape"
   ]
  },
  {
   "cell_type": "code",
   "execution_count": 67,
   "metadata": {
    "collapsed": true
   },
   "outputs": [],
   "source": [
    "# Joint result from population intensity and local dissimilarity\n",
    "rs1 = np.concatenate((cc.locality, d_localsimilarity, expo_local), axis=1)"
   ]
  },
  {
   "cell_type": "code",
   "execution_count": 68,
   "metadata": {
    "collapsed": true
   },
   "outputs": [],
   "source": [
    "N_attri = cc.locality.shape[1]\n",
    "\n",
    "names = ['MSOA_ID','x','y','sum']\n",
    "\n",
    "for i in range(N_attri):\n",
    "    names.append('group_'+str(i))\n",
    "    \n",
    "for i in range(N_attri):\n",
    "    names.append('locality_'+str(i))\n",
    "    \n",
    "names.append('local_dissimilarity')\n",
    "\n",
    "for i in range(N_attri**2):\n",
    "    names.append('expo_'+str(i))"
   ]
  },
  {
   "cell_type": "code",
   "execution_count": 70,
   "metadata": {
    "collapsed": true
   },
   "outputs": [],
   "source": [
    "#sf = shapefile.Reader('res/resolution_msoa_2011.shp')\n",
    "#shp = sf.records()\n",
    "#shp = np.asmatrix(shp)\n",
    "#rs = np.concatenate((shp[:,0], rs), axis=1)\n",
    "\n",
    "rs = np.concatenate((cc.attriMatrix,rs1),axis = 1)"
   ]
  },
  {
   "cell_type": "markdown",
   "metadata": {},
   "source": [
    "** Save results to a local file**\n",
    "\n",
    "The first paramenter (\"res/rs1.csv\"...) is the path/filename, you can use only filename if results  \n",
    "are being saved on the same folder of the code. It's recommended to save on a different folder.\n",
    "\n",
    "*The name should be changed for new executions or the local file will be replaced!*"
   ]
  },
  {
   "cell_type": "code",
   "execution_count": 71,
   "metadata": {
    "collapsed": false
   },
   "outputs": [],
   "source": [
    "# Change the name of file for results saving\n",
    "# It's recomended to use the name of the input file adding the sufix ..._result\n",
    "rs = pd.DataFrame(rs, columns=names);\n",
    "rs.to_csv(\"result/rs1.csv\", sep=\",\", index = False)"
   ]
  }
 ],
 "metadata": {
  "kernelspec": {
   "display_name": "Python 3",
   "language": "python",
   "name": "python3"
  },
  "language_info": {
   "codemirror_mode": {
    "name": "ipython",
    "version": 3
   },
   "file_extension": ".py",
   "mimetype": "text/x-python",
   "name": "python",
   "nbconvert_exporter": "python",
   "pygments_lexer": "ipython3",
   "version": "3.5.1"
  }
 },
 "nbformat": 4,
 "nbformat_minor": 0
}
