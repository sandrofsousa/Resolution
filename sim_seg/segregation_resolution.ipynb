{
 "cells": [
  {
   "cell_type": "markdown",
   "metadata": {},
   "source": [
    "# Segregation calculation"
   ]
  },
  {
   "cell_type": "markdown",
   "metadata": {},
   "source": [
    "** Instructions**\n",
    "\n",
    "For fast processing, you just need to change the file name/path at **Input file** (the file you want to read)  \n",
    "and the file name/path at section **Save results to a local file** (the file you want to save results)\n",
    "\n",
    "*make sure you don't use a name already existent or the file will be replaced*\n",
    "\n",
    "With this in mind, just click on **Cell** menu and select **Run All**"
   ]
  },
  {
   "cell_type": "code",
   "execution_count": null,
   "metadata": {
    "collapsed": true
   },
   "outputs": [],
   "source": [
    "import numpy as np\n",
    "import pandas as pd\n",
    "from decimal import Decimal\n",
    "import time"
   ]
  },
  {
   "cell_type": "code",
   "execution_count": 2,
   "metadata": {
    "collapsed": true
   },
   "outputs": [],
   "source": [
    "# Import python script with segreg functions\n",
    "from segregationMetrics import Segreg"
   ]
  },
  {
   "cell_type": "code",
   "execution_count": 3,
   "metadata": {
    "collapsed": true
   },
   "outputs": [],
   "source": [
    "cc = Segreg()"
   ]
  },
  {
   "cell_type": "markdown",
   "metadata": {},
   "source": [
    "**Input file**"
   ]
  },
  {
   "cell_type": "code",
   "execution_count": 4,
   "metadata": {
    "collapsed": false
   },
   "outputs": [
    {
     "data": {
      "text/plain": [
       "matrix([[  2.00000000e+00,   3.67940727e+05,   7.41220127e+06,\n",
       "           2.50940000e+04,   9.66000000e+03,   4.63400000e+03],\n",
       "        [  1.00000000e+00,   3.65279005e+05,   7.41308577e+06,\n",
       "           1.31420000e+04,   5.65900000e+03,   2.53900000e+03],\n",
       "        [  3.00000000e+00,   3.62939248e+05,   7.41398731e+06,\n",
       "           2.51200000e+04,   1.20450000e+04,   4.60000000e+03],\n",
       "        ..., \n",
       "        [  6.09000000e+02,   3.25291157e+05,   7.36486407e+06,\n",
       "           2.67410000e+04,   1.40210000e+04,   5.28300000e+03],\n",
       "        [  6.25000000e+02,   3.18200304e+05,   7.38684501e+06,\n",
       "           1.96940000e+04,   6.14300000e+03,   4.15000000e+03],\n",
       "        [  6.29000000e+02,   3.16921299e+05,   7.38553520e+06,\n",
       "           3.42580000e+04,   1.74130000e+04,   7.91000000e+03]])"
      ]
     },
     "execution_count": 4,
     "metadata": {},
     "output_type": "execute_result"
    }
   ],
   "source": [
    "'''\n",
    "Data prepared as id,  x, y , sum, attribute 1, attributes 2, attributes 3, Attribute n\n",
    "'''\n",
    "# cc.readAttributesFile('res/ks201_oa_ethnic.csv')\n",
    "cc.readAttributesFile('data/AP2010_CEM_RMSP_EDU copy.csv')\n",
    "# cc.readAttributesFile('data/oa2011_ks201_final.csv')"
   ]
  },
  {
   "cell_type": "markdown",
   "metadata": {},
   "source": [
    "**Compute population intensity**\n",
    "\n",
    "Distance matrix is calculated at this step"
   ]
  },
  {
   "cell_type": "code",
   "execution_count": 5,
   "metadata": {
    "collapsed": false
   },
   "outputs": [
    {
     "name": "stdout",
     "output_type": "stream",
     "text": [
      "--- 0.15311193466186523 seconds ---\n"
     ]
    }
   ],
   "source": [
    "'''\n",
    "Parameters:\n",
    "bandwidth - is set to be 5000m by default, you can change it here\n",
    "weightmethod - 1 for gaussian, 2 for bi-square and empty for moving window\n",
    "'''\n",
    "\n",
    "start_time = time.time()\n",
    "cc.locality = cc.cal_localityMatrix(bandwidth=3000, weightmethod=1)\n",
    "print(\"--- %s seconds ---\" % (time.time() - start_time))"
   ]
  },
  {
   "cell_type": "code",
   "execution_count": 6,
   "metadata": {
    "collapsed": false
   },
   "outputs": [
    {
     "data": {
      "text/plain": [
       "matrix([[  367940.7271,  7412201.274 ],\n",
       "        [  365279.0048,  7413085.769 ],\n",
       "        [  362939.2484,  7413987.312 ],\n",
       "        ..., \n",
       "        [  325291.1567,  7364864.069 ],\n",
       "        [  318200.3041,  7386845.008 ],\n",
       "        [  316921.2989,  7385535.2   ]])"
      ]
     },
     "execution_count": 6,
     "metadata": {},
     "output_type": "execute_result"
    }
   ],
   "source": [
    "# List of coordinates from file (x, y) for validation\n",
    "cc.location"
   ]
  },
  {
   "cell_type": "code",
   "execution_count": 7,
   "metadata": {
    "collapsed": false
   },
   "outputs": [
    {
     "data": {
      "text/plain": [
       "array([[  8279.84619685,   3600.89806411],\n",
       "       [  8511.69270302,   3566.92997643],\n",
       "       [  9577.65961291,   3886.71902318],\n",
       "       ..., \n",
       "       [ 14997.8947738 ,   5860.56757989],\n",
       "       [ 11150.70551962,   5233.81757421],\n",
       "       [ 11290.66083373,   5200.98309482]])"
      ]
     },
     "execution_count": 7,
     "metadata": {},
     "output_type": "execute_result"
    }
   ],
   "source": [
    "# Display local population intensity for groups\n",
    "cc.locality"
   ]
  },
  {
   "cell_type": "code",
   "execution_count": 8,
   "metadata": {
    "collapsed": false
   },
   "outputs": [
    {
     "data": {
      "text/plain": [
       "array([ 8523.54764634,  3116.99774104])"
      ]
     },
     "execution_count": 8,
     "metadata": {},
     "output_type": "execute_result"
    }
   ],
   "source": [
    "# To select locality for a specific line (validation), use the index in[x,:]\n",
    "# where x is the number of the desired line\n",
    "cc.locality[5,:]"
   ]
  },
  {
   "cell_type": "markdown",
   "metadata": {},
   "source": [
    "**Compute Local Dissimilarity**"
   ]
  },
  {
   "cell_type": "code",
   "execution_count": 9,
   "metadata": {
    "collapsed": false
   },
   "outputs": [
    {
     "data": {
      "text/plain": [
       "array([  7.14573749e-05,   5.57999743e-05,   1.38988788e-04,\n",
       "         1.05060453e-04,   1.86438725e-04,   1.68444762e-04,\n",
       "         8.25550239e-05,   7.61601793e-05,   1.41802077e-04,\n",
       "         1.07025744e-04,   7.76303207e-06,   2.06381702e-05,\n",
       "         2.51199105e-05,   6.07698962e-05,   3.06600357e-05,\n",
       "         1.43203176e-05,   8.48289622e-05,   3.26700886e-05,\n",
       "         6.56582769e-05,   4.06300299e-05,   1.13260842e-04,\n",
       "         9.25864081e-05,   3.87934122e-05,   4.64446465e-05,\n",
       "         8.17682385e-05,   6.67028918e-05,   6.17075771e-05,\n",
       "         3.00484979e-05,   7.80219294e-05,   3.33439841e-05,\n",
       "         4.15305566e-05,   5.64679184e-05,   2.59539063e-06,\n",
       "         1.18722601e-04,   0.00000000e+00,   1.27441999e-05,\n",
       "         0.00000000e+00,   0.00000000e+00,   1.70888985e-04,\n",
       "         6.14931630e-05,   5.91500487e-05,   3.67476498e-05,\n",
       "         2.51007871e-04,   9.76044362e-05,   1.52247649e-05,\n",
       "         3.81463637e-05,   2.08537349e-04,   1.04956261e-04,\n",
       "         8.07846662e-06,   0.00000000e+00,   1.27574989e-04,\n",
       "         1.10385082e-04,   2.28042031e-05,   1.46013298e-04,\n",
       "         8.16284052e-05,   2.73605418e-05,   5.89134581e-05,\n",
       "         3.10842049e-06,   2.46626659e-05,   5.53176017e-05,\n",
       "         1.37687372e-06,   1.28795445e-05,   9.74317038e-05,\n",
       "         1.84308269e-06,   3.40380303e-05,   3.16360317e-05,\n",
       "         6.93911137e-05,   4.78846395e-05,   1.16835486e-04,\n",
       "         7.36617486e-05,   8.44508049e-05,   3.43819521e-05,\n",
       "         1.05707076e-07,   7.81891604e-05,   4.38422128e-05,\n",
       "         1.26694016e-04,   1.03497150e-04,   1.09605301e-04,\n",
       "         0.00000000e+00,   1.26431689e-05,   6.53519206e-06,\n",
       "         7.98933172e-07,   7.46731266e-05,   9.08040250e-06,\n",
       "         6.57572959e-06,   5.25799531e-05,   2.22485069e-05,\n",
       "         1.79443577e-05,   1.55080076e-05,   1.68168973e-06,\n",
       "         1.97137871e-05,   7.08090951e-05,   1.68211621e-05,\n",
       "         1.95150530e-05,   3.76333690e-06,   1.05042149e-04,\n",
       "         5.18807719e-05,   6.58018758e-05,   4.00668619e-07,\n",
       "         1.11850880e-05,   4.71268795e-05,   1.74809068e-05,\n",
       "         8.65992731e-06,   6.08452552e-05,   6.03869114e-05,\n",
       "         3.89688639e-05,   5.03932733e-06,   9.38313726e-06,\n",
       "         1.38618559e-05,   2.41005170e-06,   6.17789343e-05,\n",
       "         3.82709790e-05,   1.13926077e-04,   5.15597489e-05,\n",
       "         2.69088434e-05,   6.50182707e-05,   5.23871699e-05,\n",
       "         9.12402251e-05,   4.64739993e-05,   5.24398933e-05,\n",
       "         4.47344259e-05,   4.32818307e-05,   4.53490721e-05,\n",
       "         1.22668315e-04,   4.21083757e-05,   2.19558819e-05,\n",
       "         1.31067310e-05,   2.48628212e-05,   2.80168659e-05,\n",
       "         0.00000000e+00,   1.03005445e-04,   2.66938651e-05,\n",
       "         1.27291676e-05,   3.72374634e-05,   1.18124228e-04,\n",
       "         1.52625086e-04,   4.86785759e-05,   1.50679004e-05,\n",
       "         9.98859898e-07,   1.39758351e-05,   1.57694910e-05,\n",
       "         2.01932054e-05,   1.73980345e-05,   3.29825207e-05,\n",
       "         3.09478736e-05,   6.51669764e-05,   2.73283668e-05,\n",
       "         6.06696932e-05,   3.20146077e-05,   9.01681215e-05,\n",
       "         6.41432274e-05,   1.97185720e-05,   6.43488573e-05,\n",
       "         2.30666351e-05,   1.27016980e-04,   6.35913168e-05,\n",
       "         1.28879220e-04,   3.58461841e-04,   1.55552021e-04,\n",
       "         6.39483611e-05,   1.45673477e-04,   8.87710083e-05,\n",
       "         1.22436921e-04,   3.29706743e-05,   5.91502860e-05,\n",
       "         5.40055484e-05,   6.71967912e-05,   6.66066256e-05,\n",
       "         5.92404494e-05,   8.12833905e-05,   5.02629384e-05,\n",
       "         3.01261404e-05,   8.20439018e-05,   1.18960243e-05,\n",
       "         1.13570064e-04,   6.19328305e-05,   9.52411820e-05,\n",
       "         4.83492976e-05,   6.46628080e-05,   6.30026285e-05,\n",
       "         8.26813555e-07,   1.74083205e-05,   7.29615917e-05,\n",
       "         1.00830281e-04,   6.45758918e-05,   1.51384152e-04,\n",
       "         1.14936701e-05,   6.86649512e-06,   2.54986787e-05,\n",
       "         3.16427529e-05,   8.44901437e-05,   7.44249869e-05,\n",
       "         7.44024758e-05,   6.62085996e-05,   7.09023250e-05,\n",
       "         1.08270425e-04,   4.95033904e-05,   3.03601566e-05,\n",
       "         2.76800511e-05,   7.90886880e-05,   7.88298129e-05,\n",
       "         7.29560795e-06,   1.09016282e-04,   1.94325073e-04,\n",
       "         2.41864629e-04,   1.18581357e-04,   1.77718848e-04,\n",
       "         2.13783337e-04,   6.37331243e-05,   5.09355935e-05,\n",
       "         6.75671510e-05,   5.29457432e-05,   7.03750545e-05,\n",
       "         5.40809590e-05,   5.13458753e-05,   5.55401538e-05,\n",
       "         5.54934922e-05,   5.14861984e-05,   7.31242434e-05,\n",
       "         6.36015100e-05,   4.78238657e-05,   6.71677378e-05,\n",
       "         3.88273180e-05,   1.03829725e-04,   6.57567539e-05,\n",
       "         8.36122778e-05,   6.86163421e-05,   4.61021968e-05,\n",
       "         6.45860805e-05,   4.48431629e-04,   9.30347508e-05,\n",
       "         1.06619539e-04,   9.85507359e-05,   8.95062860e-05,\n",
       "         1.00850159e-04,   1.31435530e-04,   4.83557621e-05,\n",
       "         1.76587635e-05,   5.39699898e-05,   2.22636013e-05,\n",
       "         1.86860785e-05,   5.01050476e-05,   4.35073532e-05,\n",
       "         4.21706555e-05,   4.68002825e-07,   6.04243989e-06,\n",
       "         7.45388549e-06,   1.64407186e-05,   1.11350682e-05,\n",
       "         2.00311814e-06,   1.27760879e-05,   2.94190970e-05,\n",
       "         1.36263357e-05,   3.52088468e-05,   2.66231070e-05,\n",
       "         2.81513138e-05,   2.99314869e-05,   2.17725055e-05,\n",
       "         4.97638356e-05,   2.39684542e-05,   2.16024995e-05,\n",
       "         4.08727533e-05,   3.29882498e-05,   4.79630077e-05,\n",
       "         2.55775225e-05,   1.34855246e-05,   5.65118574e-05,\n",
       "         6.09691881e-05,   1.21426564e-05,   2.11830804e-06,\n",
       "         3.30800248e-05,   2.14383842e-05,   3.82491653e-05,\n",
       "         2.10000246e-05,   2.61111107e-05,   2.48531431e-05,\n",
       "         5.35032238e-06,   2.20711936e-05,   3.30725107e-05,\n",
       "         2.39746508e-05,   1.57316425e-05,   3.21360850e-05,\n",
       "         4.00360283e-05,   2.89368057e-06,   3.23264473e-05,\n",
       "         2.53734067e-05,   1.03418980e-05,   2.44055736e-05,\n",
       "         3.40798958e-05,   2.42682487e-05,   2.46153720e-06,\n",
       "         2.44947973e-05,   6.22830089e-05,   7.03517980e-06,\n",
       "         3.43711453e-05,   5.13125063e-05,   1.70847978e-05,\n",
       "         1.08807988e-05,   3.03016522e-05,   7.69144014e-05,\n",
       "         7.48631859e-05,   8.55651476e-06,   2.19500125e-05,\n",
       "         2.51434376e-05,   2.81365654e-05,   4.08287991e-05,\n",
       "         3.83924270e-05,   2.90308645e-05,   3.52963807e-05,\n",
       "         2.37467741e-05,   5.48319166e-05,   3.29374732e-05,\n",
       "         1.96229190e-05,   1.92087584e-05,   2.29779444e-04,\n",
       "         4.17173606e-06,   3.13886632e-05,   2.95504075e-05,\n",
       "         5.36955992e-08,   2.81586012e-05,   3.83209744e-05,\n",
       "         7.71948566e-05,   5.75995677e-05,   4.35886411e-05,\n",
       "         3.63726353e-05,   8.16459298e-05,   5.03452311e-05,\n",
       "         3.38528592e-05,   3.93938425e-05,   4.75230281e-05,\n",
       "         9.80415657e-05,   4.46753875e-05,   6.21661126e-06,\n",
       "         8.79285634e-05,   3.94842397e-05,   2.54876588e-05,\n",
       "         8.50676175e-05,   8.17726352e-05,   5.09688001e-05,\n",
       "         5.90236299e-05,   1.15960587e-04,   5.79281651e-05,\n",
       "         7.16596073e-05,   6.45431723e-05,   5.06174333e-05,\n",
       "         2.42930045e-05,   2.89543870e-05,   2.92505890e-05,\n",
       "         2.38767318e-05,   7.73705676e-05,   5.33965513e-05,\n",
       "         2.77814628e-05,   7.91147391e-05,   1.08532493e-04,\n",
       "         6.14632780e-05,   6.94222869e-05,   6.23783345e-05,\n",
       "         1.89515680e-05,   2.10886019e-04,   8.24126140e-05,\n",
       "         6.29537126e-05,   3.42076535e-05,   2.37204053e-05,\n",
       "         7.15280187e-05,   3.12688067e-05,   1.45097257e-05,\n",
       "         1.79245063e-05,   6.04440939e-05,   1.30712082e-04,\n",
       "         7.55755296e-05,   1.74366640e-04,   1.51072031e-04,\n",
       "         1.60472380e-04,   1.20237320e-04,   9.81486183e-05,\n",
       "         1.84405248e-04,   1.21410604e-04,   8.29424658e-05,\n",
       "         1.75655298e-04,   4.48933504e-05,   9.88346057e-05,\n",
       "         8.69925029e-05,   7.25314988e-05,   1.48997269e-04,\n",
       "         1.41105582e-04,   1.58687708e-04,   1.00527673e-04,\n",
       "         1.09519437e-04,   1.83940479e-04,   8.83572935e-05,\n",
       "         6.68759442e-05,   9.25325607e-05,   7.80739612e-05,\n",
       "         7.80664739e-05,   7.66272338e-05,   5.93257050e-05,\n",
       "         7.46314534e-05,   7.74618986e-05,   6.84617680e-05,\n",
       "         7.24448204e-05,   8.17009172e-05,   9.22393153e-05,\n",
       "         5.27518560e-05,   1.34611397e-04,   8.80913051e-05,\n",
       "         1.23745595e-04,   9.23187262e-05,   1.02215804e-04,\n",
       "         9.01890753e-05,   3.29860495e-05,   4.25365205e-05,\n",
       "         7.42794963e-05,   5.16597845e-05,   7.41626775e-05,\n",
       "         9.30112708e-05,   8.55914635e-05,   9.36322884e-05,\n",
       "         8.32530260e-05,   1.19678896e-04,   1.15691612e-04,\n",
       "         1.62062711e-04,   6.78470392e-05,   1.23676110e-04,\n",
       "         9.08087742e-05,   1.18000845e-04,   6.50845108e-05,\n",
       "         7.91545681e-05,   7.95146119e-05,   4.97654601e-05,\n",
       "         1.04465495e-04,   1.25946295e-04,   1.04830262e-04,\n",
       "         1.28045472e-04,   1.16466427e-04,   1.45516822e-04,\n",
       "         1.06054817e-04,   7.04817702e-05,   5.75680891e-05,\n",
       "         1.06831048e-04,   7.93436355e-05,   9.55267251e-05,\n",
       "         9.83725550e-05,   5.40389811e-05,   3.09227637e-05,\n",
       "         4.73171332e-05,   2.84280059e-05,   8.04543404e-06,\n",
       "         1.81082572e-05,   2.65742504e-05,   2.54909818e-05,\n",
       "         1.18811112e-05,   2.84691886e-05,   1.09273780e-04,\n",
       "         9.66615458e-05,   1.15489318e-04,   6.80790993e-05,\n",
       "         4.88169625e-05,   7.52025667e-05,   9.49187124e-05,\n",
       "         7.51434910e-05,   1.18881321e-04,   1.05546388e-04,\n",
       "         7.52607749e-05,   9.35139054e-05,   7.61883038e-05,\n",
       "         6.24884615e-05,   1.14115073e-04,   1.15238849e-04,\n",
       "         1.45308959e-04,   4.13613429e-05,   5.32058545e-05,\n",
       "         7.58082769e-05,   9.69620628e-08,   5.83868704e-05,\n",
       "         3.99932521e-05,   4.23953801e-05,   5.34768594e-05,\n",
       "         5.96995186e-05,   5.39511957e-05,   5.91881360e-05,\n",
       "         1.21415184e-04,   1.08518523e-04,   9.98620054e-05,\n",
       "         5.49577489e-05,   5.92882050e-05,   6.15229982e-05,\n",
       "         4.81912413e-05,   7.88787079e-06,   4.37146300e-05,\n",
       "         3.08122814e-05,   5.42394492e-05,   2.04571484e-05,\n",
       "         8.46433795e-06,   1.49884591e-05,   1.67465201e-06,\n",
       "         5.18533620e-06,   6.48243749e-06,   5.35330080e-05,\n",
       "         5.33094250e-05,   3.96514076e-05,   4.96560517e-06,\n",
       "         3.76814983e-06,   3.80468051e-05,   4.99174884e-05,\n",
       "         7.03900184e-05,   6.54050279e-05,   7.91914195e-05,\n",
       "         9.95524399e-05,   3.19857641e-05,   3.93294026e-05,\n",
       "         6.53387576e-05,   5.50434485e-05,   8.39282375e-05,\n",
       "         7.02152034e-05,   7.74406913e-05,   7.32162788e-05,\n",
       "         9.01719906e-05,   4.92314864e-05,   4.80116819e-05,\n",
       "         5.96790906e-05,   8.05858376e-05,   7.08582038e-05,\n",
       "         1.05674185e-05,   2.57921401e-05,   2.18516890e-05,\n",
       "         6.47827298e-05,   1.04554192e-05,   1.67477396e-05,\n",
       "         1.71967761e-05,   6.89903936e-06,   2.80469893e-05,\n",
       "         1.28601437e-05,   4.32669907e-05,   1.03720756e-05,\n",
       "         2.76159978e-05,   8.02367499e-05,   2.87012370e-07,\n",
       "         5.53022727e-05,   1.01705613e-04,   2.85603244e-05,\n",
       "         4.02856543e-06,   2.39480269e-05,   7.18912026e-05,\n",
       "         8.02582977e-05,   4.12770340e-05,   4.08139659e-05,\n",
       "         5.44364184e-05,   4.19907563e-05,   1.74502015e-05,\n",
       "         2.33385383e-06,   2.34256326e-06,   3.56901834e-05,\n",
       "         2.14241352e-06,   2.67225647e-05,   1.45286374e-04,\n",
       "         3.05995022e-05,   4.39889893e-05,   6.19868400e-05,\n",
       "         2.45895013e-05,   1.33151416e-05,   7.75881085e-06,\n",
       "         1.41694963e-05,   1.46420745e-05,   2.82571723e-05,\n",
       "         2.92993893e-05,   4.51131843e-05,   5.25026274e-05,\n",
       "         5.61862614e-05,   1.64975161e-05,   7.48789501e-05,\n",
       "         3.12066029e-05,   1.80014687e-05,   1.58440135e-05,\n",
       "         1.94715334e-06,   6.16817412e-07,   1.85075515e-05,\n",
       "         7.95304707e-06,   2.26803831e-05,   1.60004055e-05,\n",
       "         4.47627718e-06,   1.02052677e-04,   5.34483527e-05,\n",
       "         3.89710424e-05,   1.41182631e-04,   1.42500411e-04,\n",
       "         7.02989591e-05,   1.08475328e-04,   1.18068074e-04,\n",
       "         3.31567183e-05,   1.58533160e-04,   1.06948558e-04,\n",
       "         5.13527690e-05,   6.71666493e-05,   1.04412611e-04,\n",
       "         6.74007051e-05,   1.28953159e-04,   1.72009035e-04,\n",
       "         7.67052726e-05,   6.51894130e-05,   9.55120042e-05,\n",
       "         7.84070220e-05,   7.25107784e-05,   1.03574091e-04,\n",
       "         5.26601190e-05,   1.94052215e-05,   3.74293542e-05,\n",
       "         2.99969469e-07,   1.03248473e-05,   6.15925851e-05,\n",
       "         8.90353172e-05,   8.41804679e-05,   5.86194227e-05,\n",
       "         8.45051348e-05,   9.07177821e-05,   3.76699988e-05,\n",
       "         1.35741857e-05,   7.96873010e-06,   8.08835392e-06,\n",
       "         2.49019117e-07,   2.22803727e-05,   9.53954830e-06,\n",
       "         1.34689848e-05,   1.40086707e-05,   1.60614119e-05,\n",
       "         1.08364912e-04,   1.35613906e-04,   2.27751422e-04,\n",
       "         1.76423245e-04,   1.77059370e-04,   3.86173206e-04,\n",
       "         1.95727363e-04,   1.23477195e-05,   5.43047288e-05])"
      ]
     },
     "execution_count": 9,
     "metadata": {},
     "output_type": "execute_result"
    }
   ],
   "source": [
    "# Function to compute local dissimilarity\n",
    "d_localsimilarity = cc.cal_localDissimilarity()\n",
    "# To select a specific element use the index [x] or a range [x:x]\n",
    "d_localsimilarity"
   ]
  },
  {
   "cell_type": "markdown",
   "metadata": {},
   "source": [
    "**Compute Global Dissimilarity**"
   ]
  },
  {
   "cell_type": "code",
   "execution_count": 10,
   "metadata": {
    "collapsed": false
   },
   "outputs": [
    {
     "data": {
      "text/plain": [
       "0.038405091788094411"
      ]
     },
     "execution_count": 10,
     "metadata": {},
     "output_type": "execute_result"
    }
   ],
   "source": [
    "# Fution to compute global dissimilarity\n",
    "d_globaldis = cc.cal_globalDissimilarity()\n",
    "# Display gloabl value\n",
    "d_globaldis"
   ]
  },
  {
   "cell_type": "markdown",
   "metadata": {},
   "source": [
    "** Compute Local Exposure/Isolation**"
   ]
  },
  {
   "cell_type": "code",
   "execution_count": 11,
   "metadata": {
    "collapsed": false
   },
   "outputs": [],
   "source": [
    "''''\n",
    "expo is a matrix of n_group * n_group therefore, exposure (m,n) = rs[m,n]\n",
    "the columns are exporsure m1 to n1, to n2... n5, m2 to n1....n5\n",
    "- m,m = isolation index of group m\n",
    "- m,n = expouse index of group m to n\n",
    "'''\n",
    "expo_local = cc.cal_localExposure()"
   ]
  },
  {
   "cell_type": "code",
   "execution_count": 12,
   "metadata": {
    "collapsed": false
   },
   "outputs": [
    {
     "data": {
      "text/plain": [
       "(633, 4)"
      ]
     },
     "execution_count": 12,
     "metadata": {},
     "output_type": "execute_result"
    }
   ],
   "source": [
    "# For validation, shape must be total number of lines from file\n",
    "# by number of groups squared (m, n)\n",
    "expo_local.shape"
   ]
  },
  {
   "cell_type": "code",
   "execution_count": 13,
   "metadata": {
    "collapsed": false
   },
   "outputs": [
    {
     "data": {
      "text/plain": [
       "array([[ 0.00101566,  0.00044171,  0.00101377,  0.00044089],\n",
       "       [ 0.00060163,  0.00025212,  0.00056165,  0.00023537],\n",
       "       [ 0.00129262,  0.00052456,  0.00102716,  0.00041683],\n",
       "       ..., \n",
       "       [ 0.00152096,  0.00059433,  0.00119243,  0.00046596],\n",
       "       [ 0.00063073,  0.00029604,  0.00088659,  0.00041614],\n",
       "       [ 0.00179854,  0.00082849,  0.00169996,  0.00078308]])"
      ]
     },
     "execution_count": 13,
     "metadata": {},
     "output_type": "execute_result"
    }
   ],
   "source": [
    "# Result of all combinations of local groups expousure/isolation\n",
    "expo_local"
   ]
  },
  {
   "cell_type": "code",
   "execution_count": 14,
   "metadata": {
    "collapsed": false
   },
   "outputs": [
    {
     "data": {
      "text/plain": [
       "array([ 0.00101566,  0.00044171,  0.00101377,  0.00044089])"
      ]
     },
     "execution_count": 14,
     "metadata": {},
     "output_type": "execute_result"
    }
   ],
   "source": [
    "# To select a specific line of m to n, use the index [x]\n",
    "# Each value is a result of the combinations m,n\n",
    "# e.g.: g1xg1, g1xg2, g2,g1, g2xg2 = isolation, expousure, // , isolation\n",
    "expo_local[0]"
   ]
  },
  {
   "cell_type": "markdown",
   "metadata": {},
   "source": [
    "** Compute Global Exposure/Isolation**"
   ]
  },
  {
   "cell_type": "code",
   "execution_count": 15,
   "metadata": {
    "collapsed": false
   },
   "outputs": [],
   "source": [
    "# calculate the global exposure ,the results is a m*m matrix\n",
    "expo_global = cc.cal_globalExposure()"
   ]
  },
  {
   "cell_type": "code",
   "execution_count": 16,
   "metadata": {
    "collapsed": false
   },
   "outputs": [
    {
     "data": {
      "text/plain": [
       "array([[ 0.67631941,  0.32368059],\n",
       "       [ 0.67362344,  0.32637656]])"
      ]
     },
     "execution_count": 16,
     "metadata": {},
     "output_type": "execute_result"
    }
   ],
   "source": [
    "expo_global"
   ]
  },
  {
   "cell_type": "markdown",
   "metadata": {},
   "source": [
    "**Prepare data for saving on a local file**"
   ]
  },
  {
   "cell_type": "code",
   "execution_count": 17,
   "metadata": {
    "collapsed": true
   },
   "outputs": [],
   "source": [
    "d_localsimilarity = np.asmatrix(d_localsimilarity).transpose()"
   ]
  },
  {
   "cell_type": "code",
   "execution_count": 18,
   "metadata": {
    "collapsed": false
   },
   "outputs": [
    {
     "data": {
      "text/plain": [
       "(633, 1)"
      ]
     },
     "execution_count": 18,
     "metadata": {},
     "output_type": "execute_result"
    }
   ],
   "source": [
    "d_localsimilarity.shape"
   ]
  },
  {
   "cell_type": "code",
   "execution_count": 19,
   "metadata": {
    "collapsed": true
   },
   "outputs": [],
   "source": [
    "# Joint result from population intensity and local dissimilarity\n",
    "rs1 = np.concatenate((cc.locality, d_localsimilarity, expo_local), axis=1)"
   ]
  },
  {
   "cell_type": "code",
   "execution_count": 21,
   "metadata": {
    "collapsed": false
   },
   "outputs": [],
   "source": [
    "# N_attri = cc.locality.shape[1]\n",
    "\n",
    "names = ['ID','x','y','sum']\n",
    "\n",
    "for i in range(cc.n_group):\n",
    "    names.append('group_'+str(i))\n",
    "    \n",
    "for i in range(cc.n_group):\n",
    "    names.append('locality_'+str(i))\n",
    "    \n",
    "names.append('local_dissimilarity')\n",
    "\n",
    "# for i in range(N_attri**2):\n",
    "#     names.append('expo_'+str(i))\n",
    "    \n",
    "for i in range(cc.n_group):\n",
    "    for j in range(cc.n_group):\n",
    "        if i == j:\n",
    "            names.append('iso' + str(i) + str(j))\n",
    "        else:\n",
    "            names.append('exp' + str(i) + str(j))"
   ]
  },
  {
   "cell_type": "code",
   "execution_count": 24,
   "metadata": {
    "collapsed": false
   },
   "outputs": [
    {
     "data": {
      "text/plain": [
       "matrix([[  2.00000000e+00,   3.67940727e+05,   7.41220127e+06, ...,\n",
       "           4.41708205e-04,   1.01377291e-03,   4.40888976e-04],\n",
       "        [  1.00000000e+00,   3.65279005e+05,   7.41308577e+06, ...,\n",
       "           2.52120421e-04,   5.61651926e-04,   2.35367178e-04],\n",
       "        [  3.00000000e+00,   3.62939248e+05,   7.41398731e+06, ...,\n",
       "           5.24559546e-04,   1.02715727e-03,   4.16831655e-04],\n",
       "        ..., \n",
       "        [  6.09000000e+02,   3.25291157e+05,   7.36486407e+06, ...,\n",
       "           5.94329843e-04,   1.19243483e-03,   4.65955057e-04],\n",
       "        [  6.25000000e+02,   3.18200304e+05,   7.38684501e+06, ...,\n",
       "           2.96044128e-04,   8.86589675e-04,   4.16139464e-04],\n",
       "        [  6.29000000e+02,   3.16921299e+05,   7.38553520e+06, ...,\n",
       "           8.28488059e-04,   1.69995696e-03,   7.83076168e-04]])"
      ]
     },
     "execution_count": 24,
     "metadata": {},
     "output_type": "execute_result"
    }
   ],
   "source": [
    "# Concatenate the results with original data\n",
    "rs = np.concatenate((cc.attributeMatrix,rs1),axis = 1)"
   ]
  },
  {
   "cell_type": "markdown",
   "metadata": {},
   "source": [
    "** Save Local and global results to a file**\n",
    "\n",
    "The paramenter **fname** corresponds to the folder/filename, change it as you want.\n",
    "If desired, only the filename can be used for saving the results in the same folder of the code. Just remove the parte before the \"/\" (also removing the slash). The global results are automatically using the same name with the addiction of the postfix \"_globals\".\n",
    "It's recommended to save on a different folder.\n",
    "\n",
    "**The fname value should be changed for any new executions or the local file will be overwrited!**"
   ]
  },
  {
   "cell_type": "code",
   "execution_count": 75,
   "metadata": {
    "collapsed": false
   },
   "outputs": [],
   "source": [
    "# Change the name of the variable \"fname\" to save the local results\n",
    "# It's recomended to use the name of the input file adding the sufix ..._result\n",
    "\n",
    "fname = \"result/test2groups\"\n",
    "\n",
    "rs = pd.DataFrame(rs, columns=names);\n",
    "rs.to_csv(\"%s.csv\" %fname, sep=\",\", index = False)\n",
    "\n",
    "# Change the name of the file in \" \" to save the global results\n",
    "with open(\"%s_globals.csv\" %fname, \"w\") as f:\n",
    "    f.write('Global dissimilarity: ' + str(d_globaldis))\n",
    "    f.write('\\nGlobal exposure: \\n')\n",
    "    f.write(str(expo_global))"
   ]
  }
 ],
 "metadata": {
  "kernelspec": {
   "display_name": "Python 3",
   "language": "python",
   "name": "python3"
  },
  "language_info": {
   "codemirror_mode": {
    "name": "ipython",
    "version": 3.0
   },
   "file_extension": ".py",
   "mimetype": "text/x-python",
   "name": "python",
   "nbconvert_exporter": "python",
   "pygments_lexer": "ipython3",
   "version": "3.5.1"
  }
 },
 "nbformat": 4,
 "nbformat_minor": 0
}