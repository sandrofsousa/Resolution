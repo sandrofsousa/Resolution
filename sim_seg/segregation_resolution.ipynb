{
 "cells": [
  {
   "cell_type": "markdown",
   "metadata": {},
   "source": [
    "# Segregation calculation"
   ]
  },
  {
   "cell_type": "markdown",
   "metadata": {},
   "source": [
    "** Instructions**\n",
    "\n",
    "For fast processing, you can just change the following variables **before running**:\n",
    "* path/name at **Input file** cell (select the file you want to use)\n",
    "* bandwidth and weigth method at **compute population intensity** cell\n",
    "* file name in the variable **fname** at section **Save results to a local file** (the file you want to save results)\n",
    "\n",
    "*make sure you don't use a name already used or the file will be replaced*\n",
    "\n",
    "With the previous steps in mind, just click on **Cell** menu and select **Run All**"
   ]
  },
  {
   "cell_type": "code",
   "execution_count": 19,
   "metadata": {
    "collapsed": true
   },
   "outputs": [],
   "source": [
    "import numpy as np\n",
    "import pandas as pd\n",
    "from decimal import Decimal\n",
    "import time"
   ]
  },
  {
   "cell_type": "code",
   "execution_count": 20,
   "metadata": {
    "collapsed": false
   },
   "outputs": [],
   "source": [
    "# Import python script with segreg functions\n",
    "from segregationMetrics import Segreg"
   ]
  },
  {
   "cell_type": "code",
   "execution_count": 3,
   "metadata": {
    "collapsed": false
   },
   "outputs": [],
   "source": [
    "cc = Segreg()"
   ]
  },
  {
   "cell_type": "markdown",
   "metadata": {},
   "source": [
    "**Input file**"
   ]
  },
  {
   "cell_type": "code",
   "execution_count": 4,
   "metadata": {
    "collapsed": false
   },
   "outputs": [
    {
     "data": {
      "text/plain": [
       "matrix([[  2.00000000e+00,   3.67940727e+05,   7.41220127e+06,\n           9.66000000e+03,   4.63400000e+03],\n        [  1.00000000e+00,   3.65279005e+05,   7.41308577e+06,\n           5.65900000e+03,   2.53900000e+03],\n        [  3.00000000e+00,   3.62939248e+05,   7.41398731e+06,\n           1.20450000e+04,   4.60000000e+03],\n        ..., \n        [  6.09000000e+02,   3.25291157e+05,   7.36486407e+06,\n           1.40210000e+04,   5.28300000e+03],\n        [  6.25000000e+02,   3.18200304e+05,   7.38684501e+06,\n           6.14300000e+03,   4.15000000e+03],\n        [  6.29000000e+02,   3.16921299e+05,   7.38553520e+06,\n           1.74130000e+04,   7.91000000e+03]])"
      ]
     },
     "execution_count": 4,
     "metadata": {},
     "output_type": "execute_result"
    }
   ],
   "source": [
    "'''\n",
    "Change the path/name for the input file to be processed.\n",
    "Data prepared as id, x, y , attribute 1, attributes 2, attributes 3, Attribute n...\n",
    "'''\n",
    "cc.readAttributesFile('data/AP2010_CEM_RMSP_EDU copy.csv')"
   ]
  },
  {
   "cell_type": "markdown",
   "metadata": {},
   "source": [
    "**Compute Population Intensity**\n",
    "\n",
    "Distance matrix is calculated at this step"
   ]
  },
  {
   "cell_type": "code",
   "execution_count": 5,
   "metadata": {
    "collapsed": false
   },
   "outputs": [
    {
     "name": "stdout",
     "output_type": "stream",
     "text": [
      "--- 0.06775212287902832 seconds for processing ---\n"
     ]
    }
   ],
   "source": [
    "'''\n",
    "Change the parameters for the population intensity according to your needs\n",
    "Parameters:\n",
    "bandwidth - is set to be 5000m by default, you can change it here\n",
    "weightmethod - 1 for gaussian, 2 for bi-square and empty for moving window\n",
    "'''\n",
    "\n",
    "start_time = time.time()\n",
    "cc.locality = cc.cal_localityMatrix(bandwidth=3000, weightmethod=1)\n",
    "print(\"--- %s seconds for processing ---\" % (time.time() - start_time))"
   ]
  },
  {
   "cell_type": "markdown",
   "metadata": {},
   "source": [
    "**For validation only**\n",
    "\n",
    "Remove the comment (#) if you want to see the values and validate"
   ]
  },
  {
   "cell_type": "code",
   "execution_count": 6,
   "metadata": {
    "collapsed": false
   },
   "outputs": [],
   "source": [
    "# np.set_printoptions(threshold=np.inf)\n",
    "# print('Location (coordinates from data):\\n', cc.location)\n",
    "# print()\n",
    "# print('Population intensity for all groups:\\n', cc.locality)"
   ]
  },
  {
   "cell_type": "code",
   "execution_count": 7,
   "metadata": {
    "collapsed": false
   },
   "outputs": [
    {
     "data": {
      "text/plain": [
       "'To select locality for a specific line (validation), use the index in[x,:]'"
      ]
     },
     "execution_count": 7,
     "metadata": {},
     "output_type": "execute_result"
    }
   ],
   "source": [
    "'''To select locality for a specific line (validation), use the index in[x,:]'''\n",
    "# where x is the number of the desired line\n",
    "\n",
    "# cc.locality[5,:]"
   ]
  },
  {
   "cell_type": "markdown",
   "metadata": {},
   "source": [
    "**Compute local Dissimilarity**"
   ]
  },
  {
   "cell_type": "code",
   "execution_count": 8,
   "metadata": {
    "collapsed": false
   },
   "outputs": [],
   "source": [
    "diss_local = cc.cal_localDissimilarity()\n",
    "diss_local = np.asmatrix(diss_local).transpose()\n",
    "\n",
    "# To select a specific element use the index [x] or a range [x:x]\n",
    "# diss_local"
   ]
  },
  {
   "cell_type": "markdown",
   "metadata": {},
   "source": [
    "**Compute global Dissimilarity**"
   ]
  },
  {
   "cell_type": "code",
   "execution_count": 9,
   "metadata": {
    "collapsed": false
   },
   "outputs": [],
   "source": [
    "diss_global = cc.cal_globalDissimilarity()\n",
    "\n",
    "# Display gloabl value\n",
    "# diss_global"
   ]
  },
  {
   "cell_type": "markdown",
   "metadata": {},
   "source": [
    "** Compute local Exposure/Isolation**"
   ]
  },
  {
   "cell_type": "code",
   "execution_count": 10,
   "metadata": {
    "collapsed": false
   },
   "outputs": [],
   "source": [
    "'''\n",
    "expo is a matrix of n_group * n_group therefore, exposure (m,n) = rs[m,n]\n",
    "the columns are exporsure m1 to n1, to n2... n5, m2 to n1....n5\n",
    "- m,m = isolation index of group m\n",
    "- m,n = expouse index of group m to n\n",
    "\n",
    "Result of all combinations of local groups expousure/isolation\n",
    "To select a specific line of m to n, use the index [x]\n",
    "Each value is a result of the combinations m,n\n",
    "e.g.: g1xg1, g1xg2, g2,g1, g2xg2 = isolation, expousure, // , isolation\n",
    "'''\n",
    "expo_local = cc.cal_localExposure()\n",
    "\n",
    "# expo_local\n",
    "# expo_local[0]"
   ]
  },
  {
   "cell_type": "markdown",
   "metadata": {},
   "source": [
    "** Compute global Exposure/Isolation**"
   ]
  },
  {
   "cell_type": "code",
   "execution_count": 11,
   "metadata": {
    "collapsed": false
   },
   "outputs": [],
   "source": [
    "# calculate the global exposure ,the results is a m*m matrix\n",
    "expo_global = cc.cal_globalExposure()\n",
    "\n",
    "# expo_global"
   ]
  },
  {
   "cell_type": "markdown",
   "metadata": {},
   "source": [
    "**Compute local Entropy**"
   ]
  },
  {
   "cell_type": "code",
   "execution_count": 12,
   "metadata": {
    "collapsed": false
   },
   "outputs": [],
   "source": [
    "entro_local = cc.cal_localEntropy()\n",
    "# entro_local"
   ]
  },
  {
   "cell_type": "markdown",
   "metadata": {},
   "source": [
    "**Compute global Entropy**"
   ]
  },
  {
   "cell_type": "code",
   "execution_count": 13,
   "metadata": {
    "collapsed": false
   },
   "outputs": [
    {
     "data": {
      "text/plain": [
       "0.6306056239696376"
      ]
     },
     "execution_count": 13,
     "metadata": {},
     "output_type": "execute_result"
    }
   ],
   "source": [
    "entro_global = cc.cal_globalEntropy()\n",
    "entro_global"
   ]
  },
  {
   "cell_type": "markdown",
   "metadata": {},
   "source": [
    "**Compute local Index H**"
   ]
  },
  {
   "cell_type": "code",
   "execution_count": 14,
   "metadata": {
    "collapsed": false
   },
   "outputs": [],
   "source": [
    "idxh_local = cc.cal_localIndexH()\n",
    "# idxh_local"
   ]
  },
  {
   "cell_type": "markdown",
   "metadata": {},
   "source": [
    "**Compute global Index H**"
   ]
  },
  {
   "cell_type": "code",
   "execution_count": 15,
   "metadata": {
    "collapsed": false
   },
   "outputs": [
    {
     "data": {
      "text/plain": [
       "array([ 0.6666163 ,  0.32290138])"
      ]
     },
     "execution_count": 15,
     "metadata": {},
     "output_type": "execute_result"
    }
   ],
   "source": [
    "idxh_global = cc.cal_globalIndexH()\n",
    "idxh_global"
   ]
  },
  {
   "cell_type": "markdown",
   "metadata": {},
   "source": [
    "**Prepare data for saving on a local file**"
   ]
  },
  {
   "cell_type": "code",
   "execution_count": 16,
   "metadata": {
    "collapsed": false
   },
   "outputs": [],
   "source": [
    "# Concatenate local values from measures\n",
    "if len(cc.locality) == 0:\n",
    "    rs1 = np.concatenate((diss_local, expo_local, entro_local, idxh_local), axis=1)\n",
    "else:\n",
    "    rs1 = np.concatenate((cc.locality, diss_local, expo_local, entro_local, idxh_local), axis=1)\n",
    "\n",
    "# Concatenate the results with original data\n",
    "rs = np.concatenate((cc.attributeMatrix, rs1),axis = 1)"
   ]
  },
  {
   "cell_type": "code",
   "execution_count": 17,
   "metadata": {
    "collapsed": false
   },
   "outputs": [],
   "source": [
    "# Define names for columns\n",
    "\n",
    "# N_attri = cc.locality.shape[1]\n",
    "\n",
    "names = ['id','x','y']\n",
    "\n",
    "for i in range(cc.n_group):\n",
    "    names.append('group_'+str(i))\n",
    "    \n",
    "for i in range(cc.n_group):\n",
    "    names.append('intens_'+str(i))\n",
    "    \n",
    "names.append('diss_loc')\n",
    "    \n",
    "for i in range(cc.n_group):\n",
    "    for j in range(cc.n_group):\n",
    "        if i == j:\n",
    "            names.append('iso_' + str(i) + str(j))\n",
    "        else:\n",
    "            names.append('exp_' + str(i) + str(j))\n",
    "            \n",
    "for i in range(cc.n_group):\n",
    "    names.append('entrop_'+str(i))\n",
    "    \n",
    "for i in range(cc.n_group):\n",
    "    names.append('idxh_'+str(i))"
   ]
  },
  {
   "cell_type": "markdown",
   "metadata": {},
   "source": [
    "** Save Local and global results to a file**\n",
    "\n",
    "The paramenter **fname** corresponds to the folder/filename, change it as you want.\n",
    "If desired, only the filename can be used for saving the results in the same folder of the code. Just remove the parte before the \"/\" (also removing the slash). The global results are automatically using the same name with the addiction of the postfix \"_globals\".\n",
    "It's recommended to save on a different folder.\n",
    "\n",
    "**The fname value should be changed for any new executions or the local file will be overwrited!**"
   ]
  },
  {
   "cell_type": "code",
   "execution_count": 18,
   "metadata": {
    "collapsed": false
   },
   "outputs": [],
   "source": [
    "# Change the name of the variable \"fname\" to save the local results\n",
    "# You can use the name of the input file adding the sufix ..._result\n",
    "\n",
    "fname = \"t2groups\"\n",
    "\n",
    "rs = pd.DataFrame(rs, columns=names)\n",
    "rs.to_csv(\"%s_local.csv\" % fname, sep=\",\", index=False)\n",
    "\n",
    "# Change the name of the file in \" \" to save the global results\n",
    "with open(\"%s_global.csv\" % fname, \"w\") as f:\n",
    "    f.write('Global dissimilarity: ' + str(diss_global))\n",
    "    f.write('\\nGlobal entropy: ' + str(entro_global))\n",
    "    f.write('\\nGlobal Index H: \\n' + str(idxh_global))\n",
    "    f.write('\\nGlobal isolation/exposure: \\n')\n",
    "    f.write(str(expo_global))"
   ]
  }
 ],
 "metadata": {
  "kernelspec": {
   "display_name": "Python 3",
   "language": "python",
   "name": "python3"
  },
  "language_info": {
   "codemirror_mode": {
    "name": "ipython",
    "version": 3.0
   },
   "file_extension": ".py",
   "mimetype": "text/x-python",
   "name": "python",
   "nbconvert_exporter": "python",
   "pygments_lexer": "ipython3",
   "version": "3.5.1"
  }
 },
 "nbformat": 4,
 "nbformat_minor": 0
}