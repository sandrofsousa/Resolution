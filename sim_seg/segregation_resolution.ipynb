{
 "cells": [
  {
   "cell_type": "markdown",
   "metadata": {},
   "source": [
    "# Segregation calculation"
   ]
  },
  {
   "cell_type": "markdown",
   "metadata": {},
   "source": [
    "** Instructions**\n",
    "\n",
    "For fast processing, you just need to change the file name/path at **Input file** (the file you want to read)  \n",
    "and the file name/path at section **Save results to a local file** (the file you want to save results)\n",
    "\n",
    "*make sure you don't use a name already existent or the file will be replaced*\n",
    "\n",
    "With this in mind, just click on **Cell** menu and select **Run All**"
   ]
  },
  {
   "cell_type": "code",
   "execution_count": 1,
   "metadata": {
    "collapsed": true
   },
   "outputs": [],
   "source": [
    "import numpy as np\n",
    "import pandas as pd\n",
    "from decimal import Decimal\n",
    "import time"
   ]
  },
  {
   "cell_type": "code",
   "execution_count": 2,
   "metadata": {
    "collapsed": true
   },
   "outputs": [],
   "source": [
    "# Import python script with segreg functions\n",
    "from segregationMetrics import Metrics"
   ]
  },
  {
   "cell_type": "code",
   "execution_count": 3,
   "metadata": {
    "collapsed": true
   },
   "outputs": [],
   "source": [
    "cc = Metrics()"
   ]
  },
  {
   "cell_type": "markdown",
   "metadata": {},
   "source": [
    "**Input file**"
   ]
  },
  {
   "cell_type": "code",
   "execution_count": 4,
   "metadata": {
    "collapsed": false
   },
   "outputs": [
    {
     "data": {
      "text/plain": [
       "matrix([['E00000095', 549358.25887, 184837.90058, ..., 139, 23, 53],\n",
       "        ['E00000096', 548892.82629, 184783.76665, ..., 59, 21, 15],\n",
       "        ['E00000097', 548740.34314, 184792.6435, ..., 55, 19, 29],\n",
       "        ..., \n",
       "        ['E00176593', 546272.3182399999, 180352.39283, ..., 194, 17, 67],\n",
       "        ['E00176594', 539345.40842, 177707.68125999998, ..., 2, 9, 28],\n",
       "        ['E00176595', 539768.07279, 179191.6625, ..., 44, 52, 58]], dtype=object)"
      ]
     },
     "execution_count": 4,
     "metadata": {},
     "output_type": "execute_result"
    }
   ],
   "source": [
    "'''\n",
    "Data prepared as id,  x, y , sum, attribute 1, attributes 2, attributes 3, Attribute n\n",
    "'''\n",
    "\n",
    "# cc.readAttributesFile('res/ks201_oa_ethnic.csv')\n",
    "# cc.readAttributesFile('data/AP2010_CEM_RMSP_EDU.csv')\n",
    "cc.readAttributesFile('data/oa2011_ks201_final.csv')"
   ]
  },
  {
   "cell_type": "markdown",
   "metadata": {},
   "source": [
    "**Compute population intensity**\n",
    "\n",
    "Distance matrix is calculated at this step"
   ]
  },
  {
   "cell_type": "code",
   "execution_count": 5,
   "metadata": {
    "collapsed": false
   },
   "outputs": [
    {
     "name": "stdout",
     "output_type": "stream",
     "text": [
      "--- 302.97800517082214 seconds ---\n"
     ]
    }
   ],
   "source": [
    "'''\n",
    "Parameters:\n",
    "bandwidth - is set to be 5000m by default, you can change it here\n",
    "weightmethod - 1 for gaussian, 2 for bi-square and empty for moving window\n",
    "'''\n",
    "\n",
    "start_time = time.time()\n",
    "cc.locality = cc.cal_localityMatrix(bandwidth=3000, weightmethod=1)\n",
    "print(\"--- %s seconds ---\" % (time.time() - start_time))"
   ]
  },
  {
   "cell_type": "code",
   "execution_count": 6,
   "metadata": {
    "collapsed": false
   },
   "outputs": [
    {
     "data": {
      "text/plain": [
       "matrix([[ 549358.25887,  184837.90058],\n",
       "        [ 548892.82629,  184783.76665],\n",
       "        [ 548740.34314,  184792.6435 ],\n",
       "        ..., \n",
       "        [ 546272.31824,  180352.39283],\n",
       "        [ 539345.40842,  177707.68126],\n",
       "        [ 539768.07279,  179191.6625 ]])"
      ]
     },
     "execution_count": 6,
     "metadata": {},
     "output_type": "execute_result"
    }
   ],
   "source": [
    "# List of coordinates from file (x, y) for validation\n",
    "cc.location"
   ]
  },
  {
   "cell_type": "code",
   "execution_count": 7,
   "metadata": {
    "collapsed": false
   },
   "outputs": [
    {
     "data": {
      "text/plain": [
       "array([[ 179.55986237,   60.90641023,   61.39497257,   35.41755751],\n",
       "       [ 170.41920096,   63.32206618,   69.43066773,   37.10399423],\n",
       "       [ 167.4614122 ,   63.9095381 ,   72.30135194,   37.64640359],\n",
       "       ..., \n",
       "       [ 145.28325008,   81.11422858,   64.61622497,   45.01071513],\n",
       "       [ 130.03201168,   70.58640076,   49.1570287 ,   65.4631778 ],\n",
       "       [ 118.01015482,   68.68969255,   69.86525667,   67.67724396]])"
      ]
     },
     "execution_count": 7,
     "metadata": {},
     "output_type": "execute_result"
    }
   ],
   "source": [
    "# Display local population intensity for groups\n",
    "cc.locality"
   ]
  },
  {
   "cell_type": "code",
   "execution_count": 8,
   "metadata": {
    "collapsed": false
   },
   "outputs": [
    {
     "data": {
      "text/plain": [
       "array([ 192.63810859,   40.5961701 ,   68.65265029,   32.70552713])"
      ]
     },
     "execution_count": 8,
     "metadata": {},
     "output_type": "execute_result"
    }
   ],
   "source": [
    "# To select locality for a specific line (validation), use the index in[x,:]\n",
    "cc.locality[5,:]"
   ]
  },
  {
   "cell_type": "markdown",
   "metadata": {},
   "source": [
    "**Compute Local Dissimilarity**"
   ]
  },
  {
   "cell_type": "code",
   "execution_count": 9,
   "metadata": {
    "collapsed": false
   },
   "outputs": [
    {
     "data": {
      "text/plain": [
       "array([  8.59266977e-06,   6.46957977e-06,   6.90275639e-06,\n",
       "         7.46691569e-06,   5.51224838e-06,   4.46852226e-06,\n",
       "         4.70113570e-06,   7.14297804e-06,   7.00274516e-06])"
      ]
     },
     "execution_count": 9,
     "metadata": {},
     "output_type": "execute_result"
    }
   ],
   "source": [
    "# Function to compute local dissimilarity\n",
    "d_localsimilarity = cc.cal_localDissimilarity()\n",
    "# To select a specific element use the index [x] or a range [x:x]\n",
    "d_localsimilarity[0:9]"
   ]
  },
  {
   "cell_type": "markdown",
   "metadata": {},
   "source": [
    "**Compute Global Dissimilarity**"
   ]
  },
  {
   "cell_type": "code",
   "execution_count": 10,
   "metadata": {
    "collapsed": false
   },
   "outputs": [
    {
     "data": {
      "text/plain": [
       "0.395221077266248"
      ]
     },
     "execution_count": 10,
     "metadata": {},
     "output_type": "execute_result"
    }
   ],
   "source": [
    "# Fution to compute global dissimilarity\n",
    "d_globaldis = cc.cal_globalDissimilarity()\n",
    "# Display gloabl value\n",
    "d_globaldis"
   ]
  },
  {
   "cell_type": "markdown",
   "metadata": {},
   "source": [
    "** Compute Local Exposure/Isolation**"
   ]
  },
  {
   "cell_type": "code",
   "execution_count": 11,
   "metadata": {
    "collapsed": false
   },
   "outputs": [],
   "source": [
    "''''\n",
    "expo is a matrix of n_group * n_group therefore, exposure (m,n) = rs[m,n]\n",
    "the columns are exporsure m1 to n1, to n2... n5, m2 to n1....n5\n",
    "- m,m = isolation index of group m\n",
    "- m,n = expouse index of group m to n\n",
    "'''\n",
    "expo_local = cc.cal_localExposure()"
   ]
  },
  {
   "cell_type": "code",
   "execution_count": 12,
   "metadata": {
    "collapsed": false
   },
   "outputs": [
    {
     "data": {
      "text/plain": [
       "(49890, 16)"
      ]
     },
     "execution_count": 12,
     "metadata": {},
     "output_type": "execute_result"
    }
   ],
   "source": [
    "# For validation, shape must be total lines of file by groups squared\n",
    "expo_local.shape"
   ]
  },
  {
   "cell_type": "code",
   "execution_count": 13,
   "metadata": {
    "collapsed": false
   },
   "outputs": [
    {
     "data": {
      "text/plain": [
       "array([[  1.43918361e-05,   4.88168714e-06,   4.92084572e-06, ...,\n",
       "          4.15072582e-06,   4.18402098e-06,   2.41367978e-06],\n",
       "       [  1.06834205e-05,   3.96960118e-06,   4.35254371e-06, ...,\n",
       "          1.21056839e-06,   1.32735043e-06,   7.09340760e-07],\n",
       "       [  1.03212364e-05,   3.93896984e-06,   4.45618687e-06, ...,\n",
       "          2.35492895e-06,   2.66414923e-06,   1.38718896e-06],\n",
       "       ..., \n",
       "       [  5.56774449e-06,   3.10857101e-06,   2.47631183e-06, ...,\n",
       "          7.01415289e-06,   5.58752871e-06,   3.89219059e-06],\n",
       "       [  8.83956008e-06,   4.79845480e-06,   3.34168874e-06, ...,\n",
       "          2.71902922e-06,   1.89355734e-06,   2.52167969e-06],\n",
       "       [  3.39888557e-06,   1.97837555e-06,   2.01223372e-06, ...,\n",
       "          5.32873413e-06,   5.41993076e-06,   5.25019149e-06]])"
      ]
     },
     "execution_count": 13,
     "metadata": {},
     "output_type": "execute_result"
    }
   ],
   "source": [
    "# Result of all combinations of local groups expousure/isolation\n",
    "expo_local"
   ]
  },
  {
   "cell_type": "code",
   "execution_count": 14,
   "metadata": {
    "collapsed": false
   },
   "outputs": [
    {
     "data": {
      "text/plain": [
       "array([  1.43918361e-05,   4.88168714e-06,   4.92084572e-06,\n",
       "         2.83873954e-06,   4.87612186e-05,   1.65397252e-05,\n",
       "         1.66723991e-05,   9.61798056e-06,   6.67172881e-06,\n",
       "         2.26303945e-06,   2.28119248e-06,   1.31597527e-06,\n",
       "         1.22368689e-05,   4.15072582e-06,   4.18402098e-06,\n",
       "         2.41367978e-06])"
      ]
     },
     "execution_count": 14,
     "metadata": {},
     "output_type": "execute_result"
    }
   ],
   "source": [
    "# To select a specific line of m to n, use the index [x]\n",
    "# Each value is a result of the combinations m,n\n",
    "expo_local[0]"
   ]
  },
  {
   "cell_type": "markdown",
   "metadata": {},
   "source": [
    "** Compute Global Exposure/Isolation**"
   ]
  },
  {
   "cell_type": "code",
   "execution_count": 15,
   "metadata": {
    "collapsed": false
   },
   "outputs": [],
   "source": [
    "# calculate the global exposure ,the results is a m*m matrix\n",
    "expo_global = cc.cal_globalExposure()"
   ]
  },
  {
   "cell_type": "code",
   "execution_count": 16,
   "metadata": {
    "collapsed": false
   },
   "outputs": [
    {
     "data": {
      "text/plain": [
       "array([ 0.71621982,  0.07410737,  0.08921072,  0.12046208,  0.46530758,\n",
       "        0.1708179 ,  0.16108029,  0.20279423,  0.45474975,  0.13282653,\n",
       "        0.2283729 ,  0.18405081,  0.50775785,  0.13388819,  0.14682096,\n",
       "        0.211533  ])"
      ]
     },
     "execution_count": 16,
     "metadata": {},
     "output_type": "execute_result"
    }
   ],
   "source": [
    "expo_global"
   ]
  },
  {
   "cell_type": "markdown",
   "metadata": {},
   "source": [
    "**Prepare data for saving on a local file**"
   ]
  },
  {
   "cell_type": "code",
   "execution_count": 17,
   "metadata": {
    "collapsed": true
   },
   "outputs": [],
   "source": [
    "d_localsimilarity = np.asmatrix(d_localsimilarity).transpose()"
   ]
  },
  {
   "cell_type": "code",
   "execution_count": 18,
   "metadata": {
    "collapsed": false
   },
   "outputs": [
    {
     "data": {
      "text/plain": [
       "(49890, 1)"
      ]
     },
     "execution_count": 18,
     "metadata": {},
     "output_type": "execute_result"
    }
   ],
   "source": [
    "d_localsimilarity.shape"
   ]
  },
  {
   "cell_type": "code",
   "execution_count": 19,
   "metadata": {
    "collapsed": true
   },
   "outputs": [],
   "source": [
    "# Joint result from population intensity and local dissimilarity\n",
    "rs1 = np.concatenate((cc.locality, d_localsimilarity, expo_local), axis=1)"
   ]
  },
  {
   "cell_type": "code",
   "execution_count": 20,
   "metadata": {
    "collapsed": true
   },
   "outputs": [],
   "source": [
    "N_attri = cc.locality.shape[1]\n",
    "\n",
    "names = ['MSOA_ID','x','y','sum']\n",
    "\n",
    "for i in range(N_attri):\n",
    "    names.append('group_'+str(i))\n",
    "    \n",
    "for i in range(N_attri):\n",
    "    names.append('locality_'+str(i))\n",
    "    \n",
    "names.append('local_dissimilarity')\n",
    "\n",
    "for i in range(N_attri**2):\n",
    "    names.append('expo_'+str(i))"
   ]
  },
  {
   "cell_type": "code",
   "execution_count": 21,
   "metadata": {
    "collapsed": true
   },
   "outputs": [],
   "source": [
    "#sf = shapefile.Reader('res/resolution_msoa_2011.shp')\n",
    "#shp = sf.records()\n",
    "#shp = np.asmatrix(shp)\n",
    "#rs = np.concatenate((shp[:,0], rs), axis=1)\n",
    "\n",
    "rs = np.concatenate((cc.attriMatrix,rs1),axis = 1)"
   ]
  },
  {
   "cell_type": "markdown",
   "metadata": {},
   "source": [
    "** Save results to a local file**\n",
    "\n",
    "The first paramenter (\"res/rs1.csv\"...) is the path/filename, you can use only filename if results  \n",
    "are being saved on the same folder of the code. It's recommended to save on a different folder.\n",
    "\n",
    "*The name should be changed for new executions or the local file will be replaced!*"
   ]
  },
  {
   "cell_type": "code",
   "execution_count": 22,
   "metadata": {
    "collapsed": false
   },
   "outputs": [],
   "source": [
    "# Change the name of file for results saving\n",
    "# It's recomended to use the name of the input file adding the sufix ..._result\n",
    "rs = pd.DataFrame(rs, columns=names);\n",
    "rs.to_csv(\"result/rs1test.csv\", sep=\",\", index = False)"
   ]
  },
  {
   "cell_type": "code",
   "execution_count": null,
   "metadata": {
    "collapsed": true
   },
   "outputs": [],
   "source": [
    ""
   ]
  }
 ],
 "metadata": {
  "kernelspec": {
   "display_name": "Python 3",
   "language": "python",
   "name": "python3"
  },
  "language_info": {
   "codemirror_mode": {
    "name": "ipython",
    "version": 3.0
   },
   "file_extension": ".py",
   "mimetype": "text/x-python",
   "name": "python",
   "nbconvert_exporter": "python",
   "pygments_lexer": "ipython3",
   "version": "3.5.1"
  }
 },
 "nbformat": 4,
 "nbformat_minor": 0
}