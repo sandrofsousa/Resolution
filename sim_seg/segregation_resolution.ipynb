{
 "cells": [
  {
   "cell_type": "markdown",
   "metadata": {},
   "source": [
    "# Segregation calculation"
   ]
  },
  {
   "cell_type": "code",
   "execution_count": 28,
   "metadata": {
    "collapsed": true
   },
   "outputs": [],
   "source": [
    "import numpy as np\n",
    "import pandas as pd\n",
    "from decimal import Decimal\n",
    "import time"
   ]
  },
  {
   "cell_type": "code",
   "execution_count": 29,
   "metadata": {
    "collapsed": true
   },
   "outputs": [],
   "source": [
    "# Import python script with segreg functions\n",
    "from segregationMetrics import Metrics"
   ]
  },
  {
   "cell_type": "code",
   "execution_count": 30,
   "metadata": {
    "collapsed": true
   },
   "outputs": [],
   "source": [
    "cc = Metrics()"
   ]
  },
  {
   "cell_type": "code",
   "execution_count": 31,
   "metadata": {
    "collapsed": false
   },
   "outputs": [
    {
     "data": {
      "text/plain": [
       "matrix([[  2.00000000e+00,   3.67940727e+05,   7.41220127e+06, ...,\n           7.21700000e+03,   3.22600000e+03,   3.57000000e+02],\n        [  1.00000000e+00,   3.65279005e+05,   7.41308577e+06, ...,\n           3.94100000e+03,   8.16000000e+02,   1.87000000e+02],\n        [  3.00000000e+00,   3.62939248e+05,   7.41398731e+06, ...,\n           6.76300000e+03,   1.40000000e+03,   3.12000000e+02],\n        ..., \n        [  6.09000000e+02,   3.25291157e+05,   7.36486407e+06, ...,\n           5.57900000e+03,   1.09400000e+03,   7.64000000e+02],\n        [  6.25000000e+02,   3.18200304e+05,   7.38684501e+06, ...,\n           6.72800000e+03,   2.58500000e+03,   8.80000000e+01],\n        [  6.29000000e+02,   3.16921299e+05,   7.38553520e+06, ...,\n           7.60000000e+03,   1.03900000e+03,   2.96000000e+02]])"
      ]
     },
     "execution_count": 31,
     "metadata": {},
     "output_type": "execute_result"
    }
   ],
   "source": [
    "'''\n",
    "Data prepared as id,  x, y , sum, attribute 1, attributes 2, attributes 3, Attribute n\n",
    "'''\n",
    "\n",
    "# cc.readAttributesFile('res/ks201_oa_ethnic.csv')\n",
    "cc.readAttributesFile('data/AP2010_CEM_RMSP_EDU.csv')"
   ]
  },
  {
   "cell_type": "markdown",
   "metadata": {},
   "source": [
    "**Compute population intensity**\n",
    "\n",
    "Distance matrix is calculated at this step"
   ]
  },
  {
   "cell_type": "code",
   "execution_count": 32,
   "metadata": {
    "collapsed": false
   },
   "outputs": [
    {
     "name": "stdout",
     "output_type": "stream",
     "text": [
      "--- 0.2933969497680664 seconds ---\n"
     ]
    }
   ],
   "source": [
    "'''\n",
    "Parameters:\n",
    "bandwidth - is set to be 5000m by default, you can change it here\n",
    "weightmethod - 1 for gaussian, 2 for bi-square and empty for moving window\n",
    "'''\n",
    "\n",
    "start_time = time.time()\n",
    "cc.locality = cc.cal_localityMatrix(bandwidth=3000, weightmethod=1)\n",
    "print(\"--- %s seconds ---\" % (time.time() - start_time))"
   ]
  },
  {
   "cell_type": "code",
   "execution_count": 33,
   "metadata": {
    "collapsed": false
   },
   "outputs": [
    {
     "data": {
      "text/plain": [
       "matrix([[  367940.72713,  7412201.27442],\n        [  365279.00478,  7413085.76939],\n        [  362939.24837,  7413987.31233],\n        ..., \n        [  325291.15667,  7364864.06947],\n        [  318200.30414,  7386845.00788],\n        [  316921.29889,  7385535.20008]])"
      ]
     },
     "execution_count": 33,
     "metadata": {},
     "output_type": "execute_result"
    }
   ],
   "source": [
    "# List of coordinates from file (x, y) for validation\n",
    "cc.location"
   ]
  },
  {
   "cell_type": "code",
   "execution_count": 34,
   "metadata": {
    "collapsed": false
   },
   "outputs": [
    {
     "data": {
      "text/plain": [
       "array([[  8279.8462652 ,   3600.89814857,   5388.00321297,   1689.44639886,\n           268.56572077],\n       [  8511.69276191,   3566.9300309 ,   5274.27540802,   1377.54685989,\n           262.73938253],\n       [  9577.65965392,   3886.71905402,   5551.25579861,   1203.69229422,\n           277.13216749],\n       ..., \n       [ 14997.89485778,   5860.56765295,   6171.27284685,   1068.69496683,\n           605.38805821],\n       [ 11150.70559268,   5233.81760202,   7196.39321957,   2867.14714079,\n           304.8247775 ],\n       [ 11290.66084299,   5200.98310512,   6712.36558737,   2011.08553609,\n           304.41121067]])"
      ]
     },
     "execution_count": 34,
     "metadata": {},
     "output_type": "execute_result"
    }
   ],
   "source": [
    "# Display local population intensity for groups\n",
    "cc.locality"
   ]
  },
  {
   "cell_type": "markdown",
   "metadata": {},
   "source": [
    "**Compute local dissimilarity**"
   ]
  },
  {
   "cell_type": "code",
   "execution_count": 35,
   "metadata": {
    "collapsed": false
   },
   "outputs": [
    {
     "data": {
      "text/plain": [
       "array([  9.55860422e-05,   6.61707339e-05,   1.59987254e-04,\n         1.26048662e-04,   2.87121813e-04,   1.41013920e-04,\n         1.40268287e-04,   1.57788605e-04,   4.80449181e-04,\n         2.88238193e-04])"
      ]
     },
     "execution_count": 35,
     "metadata": {},
     "output_type": "execute_result"
    }
   ],
   "source": [
    "# Function to compute local dissimilarity\n",
    "d_localsimilarity = cc.cal_localDissimilarity()\n",
    "# To select a specific element or range, use the [] with the index value\n",
    "d_localsimilarity[0: 10]"
   ]
  },
  {
   "cell_type": "code",
   "execution_count": 36,
   "metadata": {
    "collapsed": false
   },
   "outputs": [
    {
     "data": {
      "text/plain": [
       "0.12053398250135673"
      ]
     },
     "execution_count": 36,
     "metadata": {},
     "output_type": "execute_result"
    }
   ],
   "source": [
    "# Fution to compute global dissimilarity\n",
    "d_globaldis = cc.cal_globalDissimilarity()\n",
    "# Display gloabl value\n",
    "d_globaldis"
   ]
  },
  {
   "cell_type": "code",
   "execution_count": 37,
   "metadata": {
    "collapsed": true
   },
   "outputs": [],
   "source": [
    "''''\n",
    "rs is a matrix of n_group * n_group\n",
    "therefore, exposure (m,n) = rs[m,n]\n",
    "m,m = isolation index of group m\n",
    "m,n = expouse index of group m to n\n",
    "'''\n",
    "expo = cc.cal_globalExposure()"
   ]
  },
  {
   "cell_type": "code",
   "execution_count": 38,
   "metadata": {
    "collapsed": false
   },
   "outputs": [
    {
     "data": {
      "text/plain": [
       "array([[ 0.41024676,  0.1941277 ,  0.27317189,  0.11046947,  0.01198418],\n       [ 0.40289845,  0.19287   ,  0.27481578,  0.11760663,  0.01180913],\n       [ 0.38953139,  0.18881944,  0.27740802,  0.13282396,  0.0114172 ],\n       [ 0.32715575,  0.16767302,  0.27551352,  0.21947063,  0.01018708],\n       [ 0.40602988,  0.19276895,  0.27157291,  0.11685554,  0.01277272]])"
      ]
     },
     "execution_count": 38,
     "metadata": {},
     "output_type": "execute_result"
    }
   ],
   "source": [
    "# Result of all combinations of groups expousure\n",
    "expo"
   ]
  },
  {
   "cell_type": "code",
   "execution_count": 39,
   "metadata": {
    "collapsed": false
   },
   "outputs": [
    {
     "data": {
      "text/plain": [
       "array([ 0.41024676,  0.1941277 ,  0.27317189,  0.11046947,  0.01198418])"
      ]
     },
     "execution_count": 39,
     "metadata": {},
     "output_type": "execute_result"
    }
   ],
   "source": [
    "# To select a specific expousure of m to n, use the []\n",
    "expo[0]"
   ]
  },
  {
   "cell_type": "code",
   "execution_count": 40,
   "metadata": {},
   "outputs": [
    {
     "ename": "ValueError",
     "evalue": "setting an array element with a sequence.",
     "traceback": [
      "\u001b[0;31m---------------------------------------------------------------------------\u001b[0m",
      "\u001b[0;31mValueError\u001b[0m                                Traceback (most recent call last)",
      "\u001b[0;32m<ipython-input-40-aa1d25509379>\u001b[0m in \u001b[0;36m<module>\u001b[0;34m()\u001b[0m\n\u001b[0;32m----> 1\u001b[0;31m \u001b[0mexpo_local\u001b[0m \u001b[0;34m=\u001b[0m \u001b[0mcc\u001b[0m\u001b[0;34m.\u001b[0m\u001b[0mcal_localExposure\u001b[0m\u001b[0;34m(\u001b[0m\u001b[0;34m)\u001b[0m\u001b[0;34m\u001b[0m\u001b[0m\n\u001b[0m",
      "\u001b[0;32m/Users/sandrofsousa/Git/Resolution/sim_seg/segregationMetrics.py\u001b[0m in \u001b[0;36mcal_localExposure\u001b[0;34m(self)\u001b[0m\n\u001b[1;32m    124\u001b[0m                \u001b[0mexpo\u001b[0m\u001b[0;34m[\u001b[0m\u001b[0mnp\u001b[0m\u001b[0;34m.\u001b[0m\u001b[0misinf\u001b[0m\u001b[0;34m(\u001b[0m\u001b[0mexpo\u001b[0m\u001b[0;34m)\u001b[0m\u001b[0;34m]\u001b[0m\u001b[0;34m=\u001b[0m\u001b[0;36m0\u001b[0m\u001b[0;34m\u001b[0m\u001b[0m\n\u001b[1;32m    125\u001b[0m                \u001b[0mexpo\u001b[0m\u001b[0;34m[\u001b[0m\u001b[0mnp\u001b[0m\u001b[0;34m.\u001b[0m\u001b[0misnan\u001b[0m\u001b[0;34m(\u001b[0m\u001b[0mexpo\u001b[0m\u001b[0;34m)\u001b[0m\u001b[0;34m]\u001b[0m\u001b[0;34m=\u001b[0m\u001b[0;36m0\u001b[0m\u001b[0;34m\u001b[0m\u001b[0m\n\u001b[0;32m--> 126\u001b[0;31m                \u001b[0mexposure_rs\u001b[0m \u001b[0;34m=\u001b[0m \u001b[0mnp\u001b[0m\u001b[0;34m.\u001b[0m\u001b[0masarray\u001b[0m\u001b[0;34m(\u001b[0m\u001b[0mexpo\u001b[0m\u001b[0;34m)\u001b[0m\u001b[0;34m\u001b[0m\u001b[0m\n\u001b[0m\u001b[1;32m    127\u001b[0m         \u001b[0;32mreturn\u001b[0m \u001b[0mexposure_rs\u001b[0m\u001b[0;34m\u001b[0m\u001b[0m\n\u001b[1;32m    128\u001b[0m \u001b[0;34m\u001b[0m\u001b[0m\n",
      "\u001b[0;31mValueError\u001b[0m: setting an array element with a sequence."
     ],
     "output_type": "error"
    }
   ],
   "source": [
    "expo_local = cc.cal_localExposure()"
   ]
  },
  {
   "cell_type": "code",
   "execution_count": 27,
   "metadata": {},
   "outputs": [
    {
     "ename": "NameError",
     "evalue": "name 'expo_local' is not defined",
     "traceback": [
      "\u001b[0;31m---------------------------------------------------------------------------\u001b[0m",
      "\u001b[0;31mNameError\u001b[0m                                 Traceback (most recent call last)",
      "\u001b[0;32m<ipython-input-27-84b24400629d>\u001b[0m in \u001b[0;36m<module>\u001b[0;34m()\u001b[0m\n\u001b[0;32m----> 1\u001b[0;31m \u001b[0mexpo_local\u001b[0m\u001b[0;34m\u001b[0m\u001b[0m\n\u001b[0m",
      "\u001b[0;31mNameError\u001b[0m: name 'expo_local' is not defined"
     ],
     "output_type": "error"
    }
   ],
   "source": [
    "expo_local"
   ]
  },
  {
   "cell_type": "code",
   "execution_count": 18,
   "metadata": {
    "collapsed": false
   },
   "outputs": [],
   "source": [
    "d_localsimilarity = np.asmatrix(d_localsimilarity).transpose()"
   ]
  },
  {
   "cell_type": "code",
   "execution_count": 20,
   "metadata": {
    "collapsed": false,
    "scrolled": true
   },
   "outputs": [],
   "source": [
    "# Displays the dissimilaty indexes, use [] to select a value or range\n",
    "# d_localsimilarity[0:10]"
   ]
  },
  {
   "cell_type": "markdown",
   "metadata": {},
   "source": [
    "**Prepare data for saving on a local file**"
   ]
  },
  {
   "cell_type": "code",
   "execution_count": 20,
   "metadata": {
    "collapsed": true
   },
   "outputs": [],
   "source": [
    "rs1 = np.concatenate((cc.locality, d_localsimilarity), axis=1)"
   ]
  },
  {
   "cell_type": "code",
   "execution_count": 21,
   "metadata": {
    "collapsed": true
   },
   "outputs": [],
   "source": [
    "N_attri = cc.locality.shape[1]\n",
    "\n",
    "names = ['MSOA_ID','x','y','sum']\n",
    "\n",
    "for i in range(N_attri):\n",
    "    names.append('group_'+str(i))\n",
    "    \n",
    "for i in range(N_attri):\n",
    "    names.append('locality_'+str(i))\n",
    "    \n",
    "names.append('local_dissimilarity')"
   ]
  },
  {
   "cell_type": "code",
   "execution_count": 22,
   "metadata": {
    "collapsed": true
   },
   "outputs": [],
   "source": [
    "#sf = shapefile.Reader('res/resolution_msoa_2011.shp')\n",
    "#shp = sf.records()\n",
    "#shp = np.asmatrix(shp)\n",
    "#rs = np.concatenate((shp[:,0], rs), axis=1)\n",
    "\n",
    "rs = np.concatenate((cc.attriMatrix,rs1),axis = 1)"
   ]
  },
  {
   "cell_type": "markdown",
   "metadata": {},
   "source": [
    "** Save results to a local file**\n",
    "\n",
    "The first paramenter (\"res/rs1.csv\") is the path/filename or use only filename if results are being saved on the same folder. The name should be changed for new executions or the result will be "
   ]
  },
  {
   "cell_type": "code",
   "execution_count": 23,
   "metadata": {
    "collapsed": true
   },
   "outputs": [],
   "source": [
    "# Change the name of file for results saving\n",
    "# It's recomended to use the name of the input file adding the sufix ..._result\n",
    "rs = pd.DataFrame(rs, columns=names);\n",
    "rs.to_csv(\"result/rs1.csv\", sep=\",\", index = False)"
   ]
  }
 ],
 "metadata": {
  "kernelspec": {
   "display_name": "Python 3",
   "language": "python",
   "name": "python3"
  },
  "language_info": {
   "codemirror_mode": {
    "name": "ipython",
    "version": 3.0
   },
   "file_extension": ".py",
   "mimetype": "text/x-python",
   "name": "python",
   "nbconvert_exporter": "python",
   "pygments_lexer": "ipython3",
   "version": "3.5.1"
  }
 },
 "nbformat": 4,
 "nbformat_minor": 0
}