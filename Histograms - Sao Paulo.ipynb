{
 "cells": [
  {
   "cell_type": "code",
   "execution_count": 12,
   "metadata": {
    "collapsed": false
   },
   "outputs": [],
   "source": [
    "import pandas as pd\n",
    "import matplotlib.pyplot as plt\n",
    "import seaborn as sns"
   ]
  },
  {
   "cell_type": "markdown",
   "metadata": {},
   "source": [
    "# Census track data"
   ]
  },
  {
   "cell_type": "code",
   "execution_count": 13,
   "metadata": {
    "collapsed": false
   },
   "outputs": [
    {
     "data": {
      "text/html": [
       "<div>\n",
       "<table border=\"1\" class=\"dataframe\">\n",
       "  <thead>\n",
       "    <tr style=\"text-align: right;\">\n",
       "      <th></th>\n",
       "      <th>ID</th>\n",
       "      <th>AREA</th>\n",
       "      <th>CODSETOR</th>\n",
       "      <th>COD_GR</th>\n",
       "      <th>NOM_GR</th>\n",
       "      <th>COD_UF</th>\n",
       "      <th>NOM_UF</th>\n",
       "      <th>COD_ME</th>\n",
       "      <th>NOM_ME</th>\n",
       "      <th>COD_MI</th>\n",
       "      <th>...</th>\n",
       "      <th>DR_005</th>\n",
       "      <th>DR_006</th>\n",
       "      <th>DR_007</th>\n",
       "      <th>DR_008</th>\n",
       "      <th>DR_009</th>\n",
       "      <th>DR_010</th>\n",
       "      <th>DR_011</th>\n",
       "      <th>DR_012</th>\n",
       "      <th>DR_013</th>\n",
       "      <th>DR_014</th>\n",
       "    </tr>\n",
       "  </thead>\n",
       "  <tbody>\n",
       "    <tr>\n",
       "      <th>0</th>\n",
       "      <td>14525</td>\n",
       "      <td>NaN</td>\n",
       "      <td>354680105000071</td>\n",
       "      <td>3</td>\n",
       "      <td>REGIAO SUDESTE</td>\n",
       "      <td>35</td>\n",
       "      <td>SAO PAULO</td>\n",
       "      <td>3515</td>\n",
       "      <td>METROPOLITANA DE SAO PAULO</td>\n",
       "      <td>35059</td>\n",
       "      <td>...</td>\n",
       "      <td>2.0</td>\n",
       "      <td>3.0</td>\n",
       "      <td>14.0</td>\n",
       "      <td>8.0</td>\n",
       "      <td>2.0</td>\n",
       "      <td>0.0</td>\n",
       "      <td>0.0</td>\n",
       "      <td>0.0</td>\n",
       "      <td>0.0</td>\n",
       "      <td>17.0</td>\n",
       "    </tr>\n",
       "    <tr>\n",
       "      <th>1</th>\n",
       "      <td>14522</td>\n",
       "      <td>NaN</td>\n",
       "      <td>354680105000072</td>\n",
       "      <td>3</td>\n",
       "      <td>REGIAO SUDESTE</td>\n",
       "      <td>35</td>\n",
       "      <td>SAO PAULO</td>\n",
       "      <td>3515</td>\n",
       "      <td>METROPOLITANA DE SAO PAULO</td>\n",
       "      <td>35059</td>\n",
       "      <td>...</td>\n",
       "      <td>1.0</td>\n",
       "      <td>1.0</td>\n",
       "      <td>20.0</td>\n",
       "      <td>11.0</td>\n",
       "      <td>5.0</td>\n",
       "      <td>1.0</td>\n",
       "      <td>0.0</td>\n",
       "      <td>0.0</td>\n",
       "      <td>0.0</td>\n",
       "      <td>2.0</td>\n",
       "    </tr>\n",
       "    <tr>\n",
       "      <th>2</th>\n",
       "      <td>14523</td>\n",
       "      <td>NaN</td>\n",
       "      <td>354680105000074</td>\n",
       "      <td>3</td>\n",
       "      <td>REGIAO SUDESTE</td>\n",
       "      <td>35</td>\n",
       "      <td>SAO PAULO</td>\n",
       "      <td>3515</td>\n",
       "      <td>METROPOLITANA DE SAO PAULO</td>\n",
       "      <td>35059</td>\n",
       "      <td>...</td>\n",
       "      <td>0.0</td>\n",
       "      <td>3.0</td>\n",
       "      <td>15.0</td>\n",
       "      <td>28.0</td>\n",
       "      <td>11.0</td>\n",
       "      <td>2.0</td>\n",
       "      <td>0.0</td>\n",
       "      <td>1.0</td>\n",
       "      <td>0.0</td>\n",
       "      <td>2.0</td>\n",
       "    </tr>\n",
       "    <tr>\n",
       "      <th>3</th>\n",
       "      <td>14521</td>\n",
       "      <td>6267509.5</td>\n",
       "      <td>354680105000075</td>\n",
       "      <td>3</td>\n",
       "      <td>REGIAO SUDESTE</td>\n",
       "      <td>35</td>\n",
       "      <td>SAO PAULO</td>\n",
       "      <td>3515</td>\n",
       "      <td>METROPOLITANA DE SAO PAULO</td>\n",
       "      <td>35059</td>\n",
       "      <td>...</td>\n",
       "      <td>1.0</td>\n",
       "      <td>6.0</td>\n",
       "      <td>15.0</td>\n",
       "      <td>21.0</td>\n",
       "      <td>10.0</td>\n",
       "      <td>0.0</td>\n",
       "      <td>2.0</td>\n",
       "      <td>0.0</td>\n",
       "      <td>0.0</td>\n",
       "      <td>3.0</td>\n",
       "    </tr>\n",
       "    <tr>\n",
       "      <th>4</th>\n",
       "      <td>15873</td>\n",
       "      <td>NaN</td>\n",
       "      <td>354680105000076</td>\n",
       "      <td>3</td>\n",
       "      <td>REGIAO SUDESTE</td>\n",
       "      <td>35</td>\n",
       "      <td>SAO PAULO</td>\n",
       "      <td>3515</td>\n",
       "      <td>METROPOLITANA DE SAO PAULO</td>\n",
       "      <td>35059</td>\n",
       "      <td>...</td>\n",
       "      <td>1.0</td>\n",
       "      <td>18.0</td>\n",
       "      <td>83.0</td>\n",
       "      <td>57.0</td>\n",
       "      <td>13.0</td>\n",
       "      <td>3.0</td>\n",
       "      <td>1.0</td>\n",
       "      <td>2.0</td>\n",
       "      <td>1.0</td>\n",
       "      <td>3.0</td>\n",
       "    </tr>\n",
       "  </tbody>\n",
       "</table>\n",
       "<p>5 rows × 42 columns</p>\n",
       "</div>"
      ],
      "text/plain": [
       "      ID       AREA         CODSETOR  COD_GR          NOM_GR  COD_UF  \\\n",
       "0  14525        NaN  354680105000071       3  REGIAO SUDESTE      35   \n",
       "1  14522        NaN  354680105000072       3  REGIAO SUDESTE      35   \n",
       "2  14523        NaN  354680105000074       3  REGIAO SUDESTE      35   \n",
       "3  14521  6267509.5  354680105000075       3  REGIAO SUDESTE      35   \n",
       "4  15873        NaN  354680105000076       3  REGIAO SUDESTE      35   \n",
       "\n",
       "      NOM_UF  COD_ME                      NOM_ME  COD_MI   ...   DR_005  \\\n",
       "0  SAO PAULO    3515  METROPOLITANA DE SAO PAULO   35059   ...      2.0   \n",
       "1  SAO PAULO    3515  METROPOLITANA DE SAO PAULO   35059   ...      1.0   \n",
       "2  SAO PAULO    3515  METROPOLITANA DE SAO PAULO   35059   ...      0.0   \n",
       "3  SAO PAULO    3515  METROPOLITANA DE SAO PAULO   35059   ...      1.0   \n",
       "4  SAO PAULO    3515  METROPOLITANA DE SAO PAULO   35059   ...      1.0   \n",
       "\n",
       "   DR_006 DR_007  DR_008 DR_009  DR_010 DR_011  DR_012 DR_013  DR_014  \n",
       "0     3.0   14.0     8.0    2.0     0.0    0.0     0.0    0.0    17.0  \n",
       "1     1.0   20.0    11.0    5.0     1.0    0.0     0.0    0.0     2.0  \n",
       "2     3.0   15.0    28.0   11.0     2.0    0.0     1.0    0.0     2.0  \n",
       "3     6.0   15.0    21.0   10.0     0.0    2.0     0.0    0.0     3.0  \n",
       "4    18.0   83.0    57.0   13.0     3.0    1.0     2.0    1.0     3.0  \n",
       "\n",
       "[5 rows x 42 columns]"
      ]
     },
     "execution_count": 13,
     "metadata": {},
     "output_type": "execute_result"
    }
   ],
   "source": [
    "# Build Census track dataframe reading csv file exported from shapefile\n",
    "datac = \"~/Git/Resolution/SC2010_CEM_RMSP_Income_Race.csv\"\n",
    "dfc = pd.read_csv(datac)\n",
    "dfc.head()"
   ]
  },
  {
   "cell_type": "markdown",
   "metadata": {},
   "source": [
    "## Income classes in function of frequency sum"
   ]
  },
  {
   "cell_type": "code",
   "execution_count": 14,
   "metadata": {
    "collapsed": false
   },
   "outputs": [
    {
     "data": {
      "text/plain": [
       "DR_005      36107.0\n",
       "DR_006     172712.0\n",
       "DR_007     706901.0\n",
       "DR_008    1543237.0\n",
       "DR_009    1620669.0\n",
       "DR_010     595394.0\n",
       "DR_011     495462.0\n",
       "DR_012     388686.0\n",
       "DR_013     197177.0\n",
       "DR_014     334082.0\n",
       "dtype: float64"
      ]
     },
     "execution_count": 14,
     "metadata": {},
     "output_type": "execute_result"
    }
   ],
   "source": [
    "# slice income columns and sum each column\n",
    "income = dfc.loc[:,'DR_005':'DR_014']\n",
    "income.sum()"
   ]
  },
  {
   "cell_type": "code",
   "execution_count": 15,
   "metadata": {
    "collapsed": false
   },
   "outputs": [
    {
     "data": {
      "text/plain": [
       "<matplotlib.axes._subplots.AxesSubplot at 0x10b789cc0>"
      ]
     },
     "execution_count": 15,
     "metadata": {},
     "output_type": "execute_result"
    },
    {
     "data": {
      "image/png": "[encoded data removed]",
      "text/plain": [
       "<matplotlib.figure.Figure at 0x10b7d64a8>"
      ]
     },
     "metadata": {},
     "output_type": "display_data"
    }
   ],
   "source": [
    "# plot income \n",
    "% matplotlib inline\n",
    "\n",
    "sns.set_style(\"darkgrid\")\n",
    "sns.set_context(\"talk\", font_scale=1, rc={\"lines.linewidth\": 1.5})\n",
    "plt.figure(facecolor=\"white\", figsize=(12, 8), dpi=300)\n",
    "plt.xlabel('Income')\n",
    "plt.ylabel('Frequency sum')\n",
    "plt.title('Income intervals')\n",
    "\n",
    "income.sum().plot(kind='bar')"
   ]
  },
  {
   "cell_type": "markdown",
   "metadata": {},
   "source": [
    "#### Income variables reference\n",
    "\n",
    "<prep>\n",
    "```\n",
    "|DR_005|Up to 1/8 minimum wage\n",
    "|DR_006|1/8 to 1/4 minimum wage\n",
    "|DR_007|1/4 to 1/2 minimum wage\n",
    "|DR_008|1/2 to 1 minimum wage\n",
    "|DR_009|1 to 2 minimum wages\n",
    "|DR_010|2 to 3 minimum wages\n",
    "|DR_011|3 to 5 minimum wages\n",
    "|DR_012|5 to 10 minimum wages\n",
    "|DR_013|More than 10 minimum wages\n",
    "|DR_014|No income\n",
    "```\n",
    "<prep>\n",
    "\n",
    "Groups to be defined.\n",
    "Probably: up to ¼ m.w.; ¼ to ½; ½ to 1; 1 to 3, 3 to 5, more than 5."
   ]
  },
  {
   "cell_type": "markdown",
   "metadata": {},
   "source": [
    "## Color or Race in function of frequency sum"
   ]
  },
  {
   "cell_type": "code",
   "execution_count": 16,
   "metadata": {
    "collapsed": false
   },
   "outputs": [
    {
     "data": {
      "text/plain": [
       "P3_001    19683975.0\n",
       "P3_002    11574507.0\n",
       "P3_003     1266344.0\n",
       "P3_004      348648.0\n",
       "P3_005     6381433.0\n",
       "P3_006       19705.0\n",
       "dtype: float64"
      ]
     },
     "execution_count": 16,
     "metadata": {},
     "output_type": "execute_result"
    }
   ],
   "source": [
    "# slice race and color columns and sum\n",
    "race = dfc.loc[:,'P3_001':'P3_006']\n",
    "race.sum()"
   ]
  },
  {
   "cell_type": "code",
   "execution_count": 17,
   "metadata": {
    "collapsed": false
   },
   "outputs": [
    {
     "data": {
      "text/plain": [
       "<matplotlib.axes._subplots.AxesSubplot at 0x10b379f28>"
      ]
     },
     "execution_count": 17,
     "metadata": {},
     "output_type": "execute_result"
    },
    {
     "data": {
      "image/png": "[encoded data removed]",
      "text/plain": [
       "<matplotlib.figure.Figure at 0x10b379748>"
      ]
     },
     "metadata": {},
     "output_type": "display_data"
    }
   ],
   "source": [
    "# plot Race and color \n",
    "% matplotlib inline\n",
    "\n",
    "sns.set_style(\"darkgrid\")\n",
    "sns.set_context(\"talk\", font_scale=1, rc={\"lines.linewidth\": 1.5})\n",
    "plt.figure(facecolor=\"white\", figsize=(10, 6), dpi=300)\n",
    "plt.xlabel('Race and Color')\n",
    "plt.ylabel('Frequency sum')\n",
    "plt.title('Race and Color intervals')\n",
    "\n",
    "race.sum().plot(kind='bar')"
   ]
  },
  {
   "cell_type": "markdown",
   "metadata": {},
   "source": [
    "#### Race and Color variables reference\n",
    "\n",
    "<prep>\n",
    "```\n",
    "|P3_001| Residents - Pessoas Residentes\n",
    "|P3_002| White - Brancos\n",
    "|P3_003| Black - Pretos\n",
    "|P3_004| Asian - Amarelos\n",
    "|P3_005| “Pardos” - Pardos\n",
    "|P3_006| Indígenas - Indígenas\n",
    "```\n",
    "<prep>\n",
    "\n",
    "*Black and “Pardos” will be merged in the same group."
   ]
  },
  {
   "cell_type": "markdown",
   "metadata": {},
   "source": [
    "# Weighting Areas data"
   ]
  },
  {
   "cell_type": "code",
   "execution_count": 18,
   "metadata": {
    "collapsed": false
   },
   "outputs": [
    {
     "data": {
      "text/html": [
       "<div>\n",
       "<table border=\"1\" class=\"dataframe\">\n",
       "  <thead>\n",
       "    <tr style=\"text-align: right;\">\n",
       "      <th></th>\n",
       "      <th>ID</th>\n",
       "      <th>AREA</th>\n",
       "      <th>AP2010</th>\n",
       "      <th>FIRST_COD_</th>\n",
       "      <th>NOM_GR</th>\n",
       "      <th>FIRST_COD1</th>\n",
       "      <th>NOM_UF</th>\n",
       "      <th>FIRST_COD2</th>\n",
       "      <th>NOM_ME</th>\n",
       "      <th>FIRST_COD3</th>\n",
       "      <th>...</th>\n",
       "      <th>EGP9</th>\n",
       "      <th>EGP10</th>\n",
       "      <th>EGP11_</th>\n",
       "      <th>EDU1</th>\n",
       "      <th>EDU2</th>\n",
       "      <th>EDU3</th>\n",
       "      <th>EDU4</th>\n",
       "      <th>EDU5</th>\n",
       "      <th>X_coord</th>\n",
       "      <th>Y_coord</th>\n",
       "    </tr>\n",
       "  </thead>\n",
       "  <tbody>\n",
       "    <tr>\n",
       "      <th>0</th>\n",
       "      <td>2</td>\n",
       "      <td>42.52</td>\n",
       "      <td>3503901003002</td>\n",
       "      <td>3</td>\n",
       "      <td>REGIAO SUDESTE</td>\n",
       "      <td>35</td>\n",
       "      <td>SAO PAULO</td>\n",
       "      <td>3515</td>\n",
       "      <td>METROPOLITANA DE SAO PAULO</td>\n",
       "      <td>35059</td>\n",
       "      <td>...</td>\n",
       "      <td>3632</td>\n",
       "      <td>2460</td>\n",
       "      <td>64</td>\n",
       "      <td>9660.0</td>\n",
       "      <td>4634.0</td>\n",
       "      <td>7217.0</td>\n",
       "      <td>3226.0</td>\n",
       "      <td>357.0</td>\n",
       "      <td>367940.72713</td>\n",
       "      <td>7.412201e+06</td>\n",
       "    </tr>\n",
       "    <tr>\n",
       "      <th>1</th>\n",
       "      <td>1</td>\n",
       "      <td>3.06</td>\n",
       "      <td>3503901003001</td>\n",
       "      <td>3</td>\n",
       "      <td>REGIAO SUDESTE</td>\n",
       "      <td>35</td>\n",
       "      <td>SAO PAULO</td>\n",
       "      <td>3515</td>\n",
       "      <td>METROPOLITANA DE SAO PAULO</td>\n",
       "      <td>35059</td>\n",
       "      <td>...</td>\n",
       "      <td>1771</td>\n",
       "      <td>1707</td>\n",
       "      <td>28</td>\n",
       "      <td>5659.0</td>\n",
       "      <td>2539.0</td>\n",
       "      <td>3941.0</td>\n",
       "      <td>816.0</td>\n",
       "      <td>187.0</td>\n",
       "      <td>365279.00478</td>\n",
       "      <td>7.413086e+06</td>\n",
       "    </tr>\n",
       "    <tr>\n",
       "      <th>2</th>\n",
       "      <td>3</td>\n",
       "      <td>51.24</td>\n",
       "      <td>3503901003003</td>\n",
       "      <td>3</td>\n",
       "      <td>REGIAO SUDESTE</td>\n",
       "      <td>35</td>\n",
       "      <td>SAO PAULO</td>\n",
       "      <td>3515</td>\n",
       "      <td>METROPOLITANA DE SAO PAULO</td>\n",
       "      <td>35059</td>\n",
       "      <td>...</td>\n",
       "      <td>4457</td>\n",
       "      <td>2858</td>\n",
       "      <td>262</td>\n",
       "      <td>12045.0</td>\n",
       "      <td>4600.0</td>\n",
       "      <td>6763.0</td>\n",
       "      <td>1400.0</td>\n",
       "      <td>312.0</td>\n",
       "      <td>362939.24837</td>\n",
       "      <td>7.413987e+06</td>\n",
       "    </tr>\n",
       "    <tr>\n",
       "      <th>3</th>\n",
       "      <td>253</td>\n",
       "      <td>131.45</td>\n",
       "      <td>3546801003002</td>\n",
       "      <td>3</td>\n",
       "      <td>REGIAO SUDESTE</td>\n",
       "      <td>35</td>\n",
       "      <td>SAO PAULO</td>\n",
       "      <td>3515</td>\n",
       "      <td>METROPOLITANA DE SAO PAULO</td>\n",
       "      <td>35059</td>\n",
       "      <td>...</td>\n",
       "      <td>3156</td>\n",
       "      <td>2087</td>\n",
       "      <td>98</td>\n",
       "      <td>10017.0</td>\n",
       "      <td>4151.0</td>\n",
       "      <td>5969.0</td>\n",
       "      <td>1518.0</td>\n",
       "      <td>121.0</td>\n",
       "      <td>367854.33935</td>\n",
       "      <td>7.422172e+06</td>\n",
       "    </tr>\n",
       "    <tr>\n",
       "      <th>4</th>\n",
       "      <td>252</td>\n",
       "      <td>232.20</td>\n",
       "      <td>3546801003001</td>\n",
       "      <td>3</td>\n",
       "      <td>REGIAO SUDESTE</td>\n",
       "      <td>35</td>\n",
       "      <td>SAO PAULO</td>\n",
       "      <td>3515</td>\n",
       "      <td>METROPOLITANA DE SAO PAULO</td>\n",
       "      <td>35059</td>\n",
       "      <td>...</td>\n",
       "      <td>3785</td>\n",
       "      <td>3008</td>\n",
       "      <td>331</td>\n",
       "      <td>11612.0</td>\n",
       "      <td>4386.0</td>\n",
       "      <td>4545.0</td>\n",
       "      <td>830.0</td>\n",
       "      <td>92.0</td>\n",
       "      <td>375891.18166</td>\n",
       "      <td>7.424998e+06</td>\n",
       "    </tr>\n",
       "  </tbody>\n",
       "</table>\n",
       "<p>5 rows × 42 columns</p>\n",
       "</div>"
      ],
      "text/plain": [
       "    ID    AREA         AP2010  FIRST_COD_          NOM_GR  FIRST_COD1  \\\n",
       "0    2   42.52  3503901003002           3  REGIAO SUDESTE          35   \n",
       "1    1    3.06  3503901003001           3  REGIAO SUDESTE          35   \n",
       "2    3   51.24  3503901003003           3  REGIAO SUDESTE          35   \n",
       "3  253  131.45  3546801003002           3  REGIAO SUDESTE          35   \n",
       "4  252  232.20  3546801003001           3  REGIAO SUDESTE          35   \n",
       "\n",
       "      NOM_UF  FIRST_COD2                      NOM_ME  FIRST_COD3  \\\n",
       "0  SAO PAULO        3515  METROPOLITANA DE SAO PAULO       35059   \n",
       "1  SAO PAULO        3515  METROPOLITANA DE SAO PAULO       35059   \n",
       "2  SAO PAULO        3515  METROPOLITANA DE SAO PAULO       35059   \n",
       "3  SAO PAULO        3515  METROPOLITANA DE SAO PAULO       35059   \n",
       "4  SAO PAULO        3515  METROPOLITANA DE SAO PAULO       35059   \n",
       "\n",
       "       ...       EGP9  EGP10 EGP11_     EDU1    EDU2    EDU3    EDU4   EDU5  \\\n",
       "0      ...       3632   2460     64   9660.0  4634.0  7217.0  3226.0  357.0   \n",
       "1      ...       1771   1707     28   5659.0  2539.0  3941.0   816.0  187.0   \n",
       "2      ...       4457   2858    262  12045.0  4600.0  6763.0  1400.0  312.0   \n",
       "3      ...       3156   2087     98  10017.0  4151.0  5969.0  1518.0  121.0   \n",
       "4      ...       3785   3008    331  11612.0  4386.0  4545.0   830.0   92.0   \n",
       "\n",
       "        X_coord       Y_coord  \n",
       "0  367940.72713  7.412201e+06  \n",
       "1  365279.00478  7.413086e+06  \n",
       "2  362939.24837  7.413987e+06  \n",
       "3  367854.33935  7.422172e+06  \n",
       "4  375891.18166  7.424998e+06  \n",
       "\n",
       "[5 rows x 42 columns]"
      ]
     },
     "execution_count": 18,
     "metadata": {},
     "output_type": "execute_result"
    }
   ],
   "source": [
    "# Build weighting area dataframe reading csv file exported from shapefile\n",
    "dataw = \"~/Git/Resolution/AP2010_CEM_RMSP_EGP_EDU.csv\"\n",
    "dfw = pd.read_csv(dataw)\n",
    "dfw.head()"
   ]
  },
  {
   "cell_type": "markdown",
   "metadata": {},
   "source": [
    "## Education in function of frequency sum"
   ]
  },
  {
   "cell_type": "code",
   "execution_count": 19,
   "metadata": {
    "collapsed": false
   },
   "outputs": [
    {
     "data": {
      "text/plain": [
       "EDU1    6628402.0\n",
       "EDU2    3185620.0\n",
       "EDU3    4625504.0\n",
       "EDU4    2232298.0\n",
       "EDU5     194757.0\n",
       "dtype: float64"
      ]
     },
     "execution_count": 19,
     "metadata": {},
     "output_type": "execute_result"
    }
   ],
   "source": [
    "# slice education columns and sum each column\n",
    "education = dfw.loc[:,'EDU1':'EDU5']\n",
    "education.sum()"
   ]
  },
  {
   "cell_type": "code",
   "execution_count": 20,
   "metadata": {
    "collapsed": false
   },
   "outputs": [
    {
     "data": {
      "text/plain": [
       "<matplotlib.axes._subplots.AxesSubplot at 0x10b2e3048>"
      ]
     },
     "execution_count": 20,
     "metadata": {},
     "output_type": "execute_result"
    },
    {
     "data": {
      "image/png": "[encoded data removed]",
      "text/plain": [
       "<matplotlib.figure.Figure at 0x10b518dd8>"
      ]
     },
     "metadata": {},
     "output_type": "display_data"
    }
   ],
   "source": [
    "# plot education\n",
    "% matplotlib inline\n",
    "\n",
    "sns.set_style(\"darkgrid\")\n",
    "sns.set_context(\"talk\", font_scale=1, rc={\"lines.linewidth\": 1.5})\n",
    "plt.figure(facecolor=\"white\", figsize=(10, 6), dpi=300)\n",
    "plt.xlabel('Education')\n",
    "plt.ylabel('Frequency sum')\n",
    "plt.title('Education intervals')\n",
    "\n",
    "education.sum().plot(kind='bar')"
   ]
  },
  {
   "cell_type": "markdown",
   "metadata": {},
   "source": [
    "#### Eduacation variables reference\n",
    "\n",
    "<prep>\n",
    "```\n",
    "|EDU1| No education and incomplete elementary school - Sem instrução ou fundamental incompleto\n",
    "|EDU2| Complete elementary school and incomplete high school - Fundamental completo e médio incompleto\n",
    "|EDU3| Complete high school and incomplete college - Médio completo e superior incompleto\n",
    "|EDU4| Complete College/University - Superior Completo\n",
    "|EDU5| Not determined - Não determinado \n",
    "```\n",
    "<prep>"
   ]
  },
  {
   "cell_type": "markdown",
   "metadata": {},
   "source": [
    "## Ocupation in function of frequency sum"
   ]
  },
  {
   "cell_type": "code",
   "execution_count": 21,
   "metadata": {
    "collapsed": false
   },
   "outputs": [
    {
     "data": {
      "text/plain": [
       "EGP1       954344\n",
       "EGP2       873560\n",
       "EGP3      1016154\n",
       "EGP4      1461545\n",
       "EGP5       187259\n",
       "EGP6         1342\n",
       "EGP7        21355\n",
       "EGP8       332364\n",
       "EGP9      2088229\n",
       "EGP10     1467366\n",
       "EGP11_      25704\n",
       "dtype: int64"
      ]
     },
     "execution_count": 21,
     "metadata": {},
     "output_type": "execute_result"
    }
   ],
   "source": [
    "# slice ocupation columns and sum each column\n",
    "ocupation = dfw.loc[:,'EGP1':'EGP11_']\n",
    "ocupation.sum()"
   ]
  },
  {
   "cell_type": "code",
   "execution_count": 22,
   "metadata": {
    "collapsed": false
   },
   "outputs": [
    {
     "data": {
      "text/plain": [
       "<matplotlib.axes._subplots.AxesSubplot at 0x104a209e8>"
      ]
     },
     "execution_count": 22,
     "metadata": {},
     "output_type": "execute_result"
    },
    {
     "data": {
      "image/png": "[encoded data removed]",
      "text/plain": [
       "<matplotlib.figure.Figure at 0x104a23400>"
      ]
     },
     "metadata": {},
     "output_type": "display_data"
    }
   ],
   "source": [
    "# plot ocupation\n",
    "% matplotlib inline\n",
    "\n",
    "sns.set_style(\"darkgrid\")\n",
    "sns.set_context(\"talk\", font_scale=1, rc={\"lines.linewidth\": 1.5})\n",
    "plt.figure(facecolor=\"white\", figsize=(12, 8), dpi=300)\n",
    "plt.xlabel('Ocupation')\n",
    "plt.ylabel('Frequency sum')\n",
    "plt.title('Ocupation intervals')\n",
    "\n",
    "ocupation.sum().plot(kind='bar')"
   ]
  },
  {
   "cell_type": "markdown",
   "metadata": {},
   "source": [
    "#### Eduacation variables reference\n",
    "\n",
    "<prep>\n",
    "```\n",
    "|EGP1| I. Higher professionals\n",
    "|EGP2| II. Lower professionals\n",
    "|EGP3| IIIa. Routine non-manuals, higher degree\n",
    "|EGP4| IIIb. Routine non-manual, lower degree\n",
    "|EGP5| IVa2. Proprietors and employers \n",
    "|EGP6| IVc1. Rural employers\n",
    "|EGP7| IVc2. Self-employed farmers and subsistence agriculture workers\n",
    "|EGP8| V. Technicians and Supervisors of manual workers\n",
    "|EGP9| VI. Skilled workers\n",
    "|EGP10| VIIa. Semi- and unskilled workers\n",
    "|EGP11| VIIb. Agricultural workers\n",
    "```\n",
    "<prep>"
   ]
  },
  {
   "cell_type": "markdown",
   "metadata": {},
   "source": [
    "[SS] Classes EGP6, EGP7 and EGP11 could be grouped in Agricultural workers"
   ]
  },
  {
   "cell_type": "code",
   "execution_count": null,
   "metadata": {
    "collapsed": true
   },
   "outputs": [],
   "source": []
  }
 ],
 "metadata": {
  "kernelspec": {
   "display_name": "Python 3",
   "language": "python",
   "name": "python3"
  },
  "language_info": {
   "codemirror_mode": {
    "name": "ipython",
    "version": 3
   },
   "file_extension": ".py",
   "mimetype": "text/x-python",
   "name": "python",
   "nbconvert_exporter": "python",
   "pygments_lexer": "ipython3",
   "version": "3.5.1"
  }
 },
 "nbformat": 4,
 "nbformat_minor": 0
}
