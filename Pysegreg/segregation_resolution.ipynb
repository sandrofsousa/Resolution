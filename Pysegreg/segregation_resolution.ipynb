{
 "cells": [
  {
   "cell_type": "markdown",
   "metadata": {},
   "source": [
    "# Segregation calculation"
   ]
  },
  {
   "cell_type": "markdown",
   "metadata": {},
   "source": [
    "** Instructions**\n",
    "\n",
    "For fast processing, you can just change the following variables **before running**:\n",
    "* path/name at **Input file** cell (select the file you want to use)\n",
    "* bandwidth and weigth method at **compute population intensity** cell\n",
    "* file name in the variable **fname** at section **Save results to a local file** (the file you want to save results)\n",
    "\n",
    "*make sure you don't use a name already used or the file will be replaced*\n",
    "\n",
    "With the previous steps in mind, just click on **Cell** menu and select **Run All**"
   ]
  },
  {
   "cell_type": "code",
   "execution_count": 1,
   "metadata": {
    "collapsed": false
   },
   "outputs": [],
   "source": [
    "# Imports\n",
    "import numpy as np\n",
    "np.seterr(all='ignore')\n",
    "import pandas as pd\n",
    "from decimal import Decimal\n",
    "import time\n",
    "\n",
    "# Import python script with Pysegreg functions\n",
    "from segregationMetrics import Segreg\n",
    "\n",
    "# Instantiate segreg as cc\n",
    "cc = Segreg()"
   ]
  },
  {
   "cell_type": "markdown",
   "metadata": {},
   "source": [
    "# Input file\n",
    "\n",
    "**Attention to the new data structure for input !!!**\n",
    "\n",
    "Change your input file with path/name in the cell below to be processed.\n",
    "\n",
    "**Data Format**  \n",
    "**ID | X | Y | group 1 | group 2 | group n**"
   ]
  },
  {
   "cell_type": "code",
   "execution_count": 2,
   "metadata": {
    "collapsed": false
   },
   "outputs": [
    {
     "data": {
      "text/plain": [
       "matrix([[  5.47279936e+05,   1.85243551e+05,   1.91000000e+02,\n",
       "           6.30000000e+01,   1.50000000e+01,   1.90000000e+01],\n",
       "        [  5.46880923e+05,   1.85295171e+05,   1.95000000e+02,\n",
       "           6.20000000e+01,   3.60000000e+01,   2.60000000e+01],\n",
       "        [  5.47089858e+05,   1.85108809e+05,   2.14000000e+02,\n",
       "           6.90000000e+01,   1.20000000e+01,   3.40000000e+01],\n",
       "        ..., \n",
       "        [  5.26001987e+05,   1.82084880e+05,   1.09000000e+02,\n",
       "           1.20000000e+01,   4.40000000e+01,   1.20000000e+02],\n",
       "        [  5.26085638e+05,   1.82223817e+05,   1.38000000e+02,\n",
       "           8.00000000e+00,   3.20000000e+01,   1.10000000e+02],\n",
       "        [  5.29567927e+05,   1.79192866e+05,   5.50000000e+01,\n",
       "           2.20000000e+01,   4.70000000e+01,   8.20000000e+01]])"
      ]
     },
     "execution_count": 2,
     "metadata": {},
     "output_type": "execute_result"
    }
   ],
   "source": [
    "cc.readAttributesFile('/valid/gla_oa_race.csv')"
   ]
  },
  {
   "cell_type": "markdown",
   "metadata": {},
   "source": [
    "# Measures\n",
    "\n",
    "**Compute Population Intensity**\n",
    "\n",
    "**For non spatial result, please comment the function call at: \"cc.locality= ...\" **\n",
    "\n",
    "* to comment a code use # in the begining of the line\n",
    "\n",
    "Distance matrix is calculated at this step. Change the parameters for the population  \n",
    "intensity according to your needs. Parameters are:  \n",
    "* **bandwidth** - is set to be 5000m by default, you can change it here  \n",
    "* **weightmethod** - 1 for gaussian, 2 for bi-square and empty for moving window"
   ]
  },
  {
   "cell_type": "code",
   "execution_count": 3,
   "metadata": {
    "collapsed": false
   },
   "outputs": [
    {
     "name": "stdout",
     "output_type": "stream",
     "text": [
      "--- 123.07484102249146 seconds for processing ---\n"
     ]
    }
   ],
   "source": [
    "start_time = time.time()\n",
    "cc.locality = cc.cal_localityMatrix(bandwidth=3000, weightmethod=1)\n",
    "print(\"--- %s seconds for processing ---\" % (time.time() - start_time))"
   ]
  },
  {
   "cell_type": "markdown",
   "metadata": {},
   "source": [
    "For validation only  \n",
    "Remove the comment (#) if you want to see the values and validate"
   ]
  },
  {
   "cell_type": "code",
   "execution_count": 4,
   "metadata": {
    "collapsed": false
   },
   "outputs": [
    {
     "data": {
      "text/plain": [
       "'To select locality for a specific line (validation), use the index in[x,:]'"
      ]
     },
     "execution_count": 4,
     "metadata": {},
     "output_type": "execute_result"
    }
   ],
   "source": [
    "# np.set_printoptions(threshold=np.inf)\n",
    "# print('Location (coordinates from data):\\n', cc.location)\n",
    "# print()\n",
    "# print('Population intensity for all groups:\\n', cc.locality)\n",
    "\n",
    "'''To select locality for a specific line (validation), use the index in[x,:]'''\n",
    "# where x is the number of the desired line\n",
    "\n",
    "# cc.locality[5,:]"
   ]
  },
  {
   "cell_type": "markdown",
   "metadata": {},
   "source": [
    "**Compute local Dissimilarity**"
   ]
  },
  {
   "cell_type": "code",
   "execution_count": 5,
   "metadata": {
    "collapsed": false
   },
   "outputs": [],
   "source": [
    "diss_local = cc.cal_localDissimilarity()\n",
    "diss_local = np.asmatrix(diss_local).transpose()"
   ]
  },
  {
   "cell_type": "markdown",
   "metadata": {},
   "source": [
    "**Compute global Dissimilarity**"
   ]
  },
  {
   "cell_type": "code",
   "execution_count": 6,
   "metadata": {
    "collapsed": false
   },
   "outputs": [],
   "source": [
    "diss_global = cc.cal_globalDissimilarity()"
   ]
  },
  {
   "cell_type": "markdown",
   "metadata": {},
   "source": [
    "** Compute local Exposure/Isolation**  \n",
    "expo is a matrix of n_group * n_group therefore, exposure (m,n) = rs[m,n]  \n",
    "the columns are exporsure m1 to n1, to n2... n5, m2 to n1....n5  \n",
    "- m,m = isolation index of group m\n",
    "- m,n = expouse index of group m to n\n",
    "\n",
    "Result of all combinations of local groups expousure/isolation  \n",
    "To select a specific line of m to n, use the index [x]  \n",
    "Each value is a result of the combinations m,n  \n",
    "e.g.: g1xg1, g1xg2, g2,g1, g2xg2 = isolation, expousure, // , isolation"
   ]
  },
  {
   "cell_type": "code",
   "execution_count": 7,
   "metadata": {
    "collapsed": false
   },
   "outputs": [],
   "source": [
    "expo_local = cc.cal_localExposure()"
   ]
  },
  {
   "cell_type": "markdown",
   "metadata": {},
   "source": [
    "** Compute global Exposure/Isolation**"
   ]
  },
  {
   "cell_type": "code",
   "execution_count": 8,
   "metadata": {
    "collapsed": false
   },
   "outputs": [],
   "source": [
    "expo_global = cc.cal_globalExposure()"
   ]
  },
  {
   "cell_type": "markdown",
   "metadata": {},
   "source": [
    "**Compute local Entropy**"
   ]
  },
  {
   "cell_type": "code",
   "execution_count": 9,
   "metadata": {
    "collapsed": false
   },
   "outputs": [],
   "source": [
    "entro_local = cc.cal_localEntropy()"
   ]
  },
  {
   "cell_type": "markdown",
   "metadata": {},
   "source": [
    "**Compute global Entropy**"
   ]
  },
  {
   "cell_type": "code",
   "execution_count": 10,
   "metadata": {
    "collapsed": false
   },
   "outputs": [],
   "source": [
    "entro_global = cc.cal_globalEntropy()"
   ]
  },
  {
   "cell_type": "markdown",
   "metadata": {},
   "source": [
    "**Compute local Index H**"
   ]
  },
  {
   "cell_type": "code",
   "execution_count": 11,
   "metadata": {
    "collapsed": false
   },
   "outputs": [],
   "source": [
    "idxh_local = cc.cal_localIndexH()"
   ]
  },
  {
   "cell_type": "markdown",
   "metadata": {},
   "source": [
    "**Compute global Index H**"
   ]
  },
  {
   "cell_type": "code",
   "execution_count": 12,
   "metadata": {
    "collapsed": false
   },
   "outputs": [],
   "source": [
    "idxh_global = cc.cal_globalIndexH()"
   ]
  },
  {
   "cell_type": "markdown",
   "metadata": {},
   "source": [
    "# Results\n",
    "**Prepare data for saving on a local file**"
   ]
  },
  {
   "cell_type": "code",
   "execution_count": 13,
   "metadata": {
    "collapsed": false
   },
   "outputs": [],
   "source": [
    "# Concatenate local values from measures\n",
    "if len(cc.locality) == 0:\n",
    "    results = np.concatenate((expo_local, diss_local, entro_local, idxh_local), axis=1)\n",
    "else:\n",
    "    results = np.concatenate((cc.locality, expo_local, diss_local, entro_local, idxh_local), axis=1)\n",
    "\n",
    "# Concatenate the results with original data\n",
    "output = np.concatenate((cc.track_id, cc.attributeMatrix, results),axis = 1)"
   ]
  },
  {
   "cell_type": "code",
   "execution_count": 14,
   "metadata": {
    "collapsed": false
   },
   "outputs": [],
   "source": [
    "names = ['id','x','y']\n",
    "\n",
    "for i in range(cc.n_group):\n",
    "    names.append('group_'+str(i))\n",
    "\n",
    "if len(cc.locality) == 0:    \n",
    "    for i in range(cc.n_group):\n",
    "        for j in range(cc.n_group):\n",
    "            if i == j:\n",
    "                names.append('iso_' + str(i) + str(j))\n",
    "            else:\n",
    "                names.append('exp_' + str(i) + str(j))\n",
    "            \n",
    "    names.append('dissimil')\n",
    "    names.append('entropy')\n",
    "    names.append('indexh')\n",
    "    \n",
    "else:\n",
    "    for i in range(cc.n_group):\n",
    "        names.append('intens_'+str(i))\n",
    "        \n",
    "    for i in range(cc.n_group):\n",
    "        for j in range(cc.n_group):\n",
    "            if i == j:\n",
    "                names.append('iso_' + str(i) + str(j))\n",
    "            else:\n",
    "                names.append('exp_' + str(i) + str(j))\n",
    "            \n",
    "    names.append('dissimil')\n",
    "    names.append('entropy')\n",
    "    names.append('indexh')"
   ]
  },
  {
   "cell_type": "markdown",
   "metadata": {},
   "source": [
    "** Save Local and global results to a file**\n",
    "\n",
    "The paramenter **fname** corresponds to the folder/filename, change it as you want.  \n",
    "To save on a diferent folder, use the \"/\" to pass the directory.  \n",
    "The local results will be saved using the name defined and adding the **\"_local\"** postfix to file's name.  \n",
    "The global results are automatically saved using the same name with the addiction of the postfix **\"_globals\".**  \n",
    "\n",
    "It's recommended to save on a different folder from the code, e.g.: a folder named result.\n",
    "\n",
    "**The fname value should be changed for any new executions or the local file will be overwrited!**"
   ]
  },
  {
   "cell_type": "code",
   "execution_count": 15,
   "metadata": {
    "collapsed": false
   },
   "outputs": [],
   "source": [
    "fname = \"valid/result_pysegreg\"\n",
    "\n",
    "output = pd.DataFrame(output, columns=names)\n",
    "output.to_csv(\"%s_local.csv\" % fname, sep=\",\", index=False)\n",
    "with open(\"%s_global.txt\" % fname, \"w\") as f:\n",
    "    f.write('Global dissimilarity: ' + str(diss_global))\n",
    "    f.write('\\nGlobal entropy: ' + str(entro_global))\n",
    "    f.write('\\nGlobal Index H: \\n' + str(idxh_global))\n",
    "    f.write('\\nGlobal isolation/exposure: \\n')\n",
    "    f.write(str(expo_global))"
   ]
  }
 ],
 "metadata": {
  "kernelspec": {
   "display_name": "Python 3",
   "language": "python",
   "name": "python3"
  },
  "language_info": {
   "codemirror_mode": {
    "name": "ipython",
    "version": 3
   },
   "file_extension": ".py",
   "mimetype": "text/x-python",
   "name": "python",
   "nbconvert_exporter": "python",
   "pygments_lexer": "ipython3",
   "version": "3.5.1"
  }
 },
 "nbformat": 4,
 "nbformat_minor": 0
}
